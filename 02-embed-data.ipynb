{
 "cells": [
  {
   "cell_type": "code",
   "execution_count": 1,
   "metadata": {},
   "outputs": [
    {
     "name": "stderr",
     "output_type": "stream",
     "text": [
      "c:\\Users\\karishma\\OneDrive\\Projects\\qCLEF\\.venv\\lib\\site-packages\\tqdm\\auto.py:21: TqdmWarning: IProgress not found. Please update jupyter and ipywidgets. See https://ipywidgets.readthedocs.io/en/stable/user_install.html\n",
      "  from .autonotebook import tqdm as notebook_tqdm\n"
     ]
    }
   ],
   "source": [
    "import pandas as pd\n",
    "import numpy as np\n",
    "from sentence_transformers import SentenceTransformer"
   ]
  },
  {
   "cell_type": "markdown",
   "metadata": {},
   "source": [
    "Examine data"
   ]
  },
  {
   "cell_type": "code",
   "execution_count": 17,
   "metadata": {},
   "outputs": [
    {
     "data": {
      "text/html": [
       "<div>\n",
       "<style scoped>\n",
       "    .dataframe tbody tr th:only-of-type {\n",
       "        vertical-align: middle;\n",
       "    }\n",
       "\n",
       "    .dataframe tbody tr th {\n",
       "        vertical-align: top;\n",
       "    }\n",
       "\n",
       "    .dataframe thead th {\n",
       "        text-align: right;\n",
       "    }\n",
       "</style>\n",
       "<table border=\"1\" class=\"dataframe\">\n",
       "  <thead>\n",
       "    <tr style=\"text-align: right;\">\n",
       "      <th></th>\n",
       "      <th>doc_id</th>\n",
       "      <th>text</th>\n",
       "    </tr>\n",
       "  </thead>\n",
       "  <tbody>\n",
       "    <tr>\n",
       "      <th>0</th>\n",
       "      <td>1711818_11</td>\n",
       "      <td>During the first part of the war, the M-14 was...</td>\n",
       "    </tr>\n",
       "    <tr>\n",
       "      <th>1</th>\n",
       "      <td>2898971_4</td>\n",
       "      <td>my religion is umm... oh.. ''Moonism'' and you...</td>\n",
       "    </tr>\n",
       "    <tr>\n",
       "      <th>2</th>\n",
       "      <td>610031_8</td>\n",
       "      <td>democracy is suposed to be for example a gover...</td>\n",
       "    </tr>\n",
       "    <tr>\n",
       "      <th>3</th>\n",
       "      <td>657762_0</td>\n",
       "      <td>I suppose since they've been naming hurricanes...</td>\n",
       "    </tr>\n",
       "    <tr>\n",
       "      <th>4</th>\n",
       "      <td>2449050_7</td>\n",
       "      <td>When you live your life in a way that is pleas...</td>\n",
       "    </tr>\n",
       "  </tbody>\n",
       "</table>\n",
       "</div>"
      ],
      "text/plain": [
       "       doc_id                                               text\n",
       "0  1711818_11  During the first part of the war, the M-14 was...\n",
       "1   2898971_4  my religion is umm... oh.. ''Moonism'' and you...\n",
       "2    610031_8  democracy is suposed to be for example a gover...\n",
       "3    657762_0  I suppose since they've been naming hurricanes...\n",
       "4   2449050_7  When you live your life in a way that is pleas..."
      ]
     },
     "execution_count": 17,
     "metadata": {},
     "output_type": "execute_result"
    }
   ],
   "source": [
    "train_df = pd.read_csv(\"antique_train_split.csv\")  # Contains 'doc_id' and 'text'\n",
    "train_df.head()"
   ]
  },
  {
   "cell_type": "code",
   "execution_count": 18,
   "metadata": {},
   "outputs": [
    {
     "data": {
      "text/plain": [
       "'During the first part of the war, the M-14 was standard issue.  The M-14 is a semi-automatic rifle.  It was latter replaced by the M-16.  The M-16 is a much lighter rifle which is capable of operating fully automatic/'"
      ]
     },
     "execution_count": 18,
     "metadata": {},
     "output_type": "execute_result"
    }
   ],
   "source": [
    "train_df['text'][0] # Multiple sentences in a single string..."
   ]
  },
  {
   "cell_type": "markdown",
   "metadata": {},
   "source": [
    "Encode data"
   ]
  },
  {
   "cell_type": "code",
   "execution_count": 9,
   "metadata": {},
   "outputs": [
    {
     "name": "stderr",
     "output_type": "stream",
     "text": [
      "Batches: 100%|██████████| 204/204 [00:03<00:00, 58.70it/s] \n",
      "Batches: 100%|██████████| 69/69 [00:01<00:00, 65.26it/s]\n"
     ]
    },
    {
     "name": "stdout",
     "output_type": "stream",
     "text": [
      "Train embeddings shape: (6500, 384)\n",
      "Validation embeddings shape: (2200, 384)\n"
     ]
    }
   ],
   "source": [
    "# Load validation data (train already here)\n",
    "valid_df = pd.read_csv(\"antique_valid_split.csv\")\n",
    "\n",
    "# Load a transformer model for sentence embeddings\n",
    "model = SentenceTransformer(\"sentence-transformers/all-MiniLM-L6-v2\")\n",
    "\n",
    "# Function to encode text in batches\n",
    "def encode_texts(texts):\n",
    "    return model.encode(texts, batch_size=32, convert_to_numpy=True, show_progress_bar=True)\n",
    "\n",
    "# Compute embeddings\n",
    "train_embeddings = encode_texts(train_df[\"text\"].tolist())\n",
    "valid_embeddings = encode_texts(valid_df[\"text\"].tolist())\n",
    "\n",
    "# Save embeddings\n",
    "np.save(\"antique_train_embeddings.npy\", train_embeddings)\n",
    "np.save(\"antique_valid_embeddings.npy\", valid_embeddings)\n",
    "\n",
    "print(f\"Train embeddings shape: {train_embeddings.shape}\")\n",
    "print(f\"Validation embeddings shape: {valid_embeddings.shape}\")"
   ]
  },
  {
   "cell_type": "markdown",
   "metadata": {},
   "source": [
    "Save data"
   ]
  },
  {
   "cell_type": "code",
   "execution_count": null,
   "metadata": {},
   "outputs": [],
   "source": [
    "# Load original text data\n",
    "train_df = pd.read_csv(\"antique_train_split.csv\")\n",
    "valid_df = pd.read_csv(\"antique_valid_split.csv\")\n",
    "\n",
    "# Load corresponding embeddings\n",
    "train_embeddings = np.load(\"antique_train_embeddings.npy\")\n",
    "valid_embeddings = np.load(\"antique_valid_embeddings.npy\")\n",
    "\n",
    "# Store the entire embedding as a list inside a single column\n",
    "train_df[\"embedding\"] = train_embeddings.tolist()\n",
    "valid_df[\"embedding\"] = valid_embeddings.tolist()\n",
    "\n",
    "# Save combined DataFrames\n",
    "train_df.to_csv(\"antique_train_with_embeddings.csv\", index=False)\n",
    "valid_df.to_csv(\"antique_valid_with_embeddings.csv\", index=False)\n",
    "\n",
    "# train_df.to_parquet(\"antique_train_with_embeddings.parquet\", index=False)\n",
    "# valid_df.to_parquet(\"antique_valid_with_embeddings.parquet\", index=False)"
   ]
  },
  {
   "cell_type": "markdown",
   "metadata": {},
   "source": [
    "View data"
   ]
  },
  {
   "cell_type": "code",
   "execution_count": 21,
   "metadata": {},
   "outputs": [
    {
     "name": "stdout",
     "output_type": "stream",
     "text": [
      "Train Combined DataFrame:\n"
     ]
    },
    {
     "data": {
      "text/html": [
       "<div>\n",
       "<style scoped>\n",
       "    .dataframe tbody tr th:only-of-type {\n",
       "        vertical-align: middle;\n",
       "    }\n",
       "\n",
       "    .dataframe tbody tr th {\n",
       "        vertical-align: top;\n",
       "    }\n",
       "\n",
       "    .dataframe thead th {\n",
       "        text-align: right;\n",
       "    }\n",
       "</style>\n",
       "<table border=\"1\" class=\"dataframe\">\n",
       "  <thead>\n",
       "    <tr style=\"text-align: right;\">\n",
       "      <th></th>\n",
       "      <th>doc_id</th>\n",
       "      <th>text</th>\n",
       "      <th>embedding</th>\n",
       "    </tr>\n",
       "  </thead>\n",
       "  <tbody>\n",
       "    <tr>\n",
       "      <th>0</th>\n",
       "      <td>1711818_11</td>\n",
       "      <td>During the first part of the war, the M-14 was...</td>\n",
       "      <td>[-0.012949175201356411, 0.11205881834030151, 0...</td>\n",
       "    </tr>\n",
       "    <tr>\n",
       "      <th>1</th>\n",
       "      <td>2898971_4</td>\n",
       "      <td>my religion is umm... oh.. ''Moonism'' and you...</td>\n",
       "      <td>[0.01773860864341259, -0.01257272157818079, 0....</td>\n",
       "    </tr>\n",
       "    <tr>\n",
       "      <th>2</th>\n",
       "      <td>610031_8</td>\n",
       "      <td>democracy is suposed to be for example a gover...</td>\n",
       "      <td>[-0.014321690425276756, -0.04826303571462631, ...</td>\n",
       "    </tr>\n",
       "    <tr>\n",
       "      <th>3</th>\n",
       "      <td>657762_0</td>\n",
       "      <td>I suppose since they've been naming hurricanes...</td>\n",
       "      <td>[-0.04391418769955635, -0.016200868412852287, ...</td>\n",
       "    </tr>\n",
       "    <tr>\n",
       "      <th>4</th>\n",
       "      <td>2449050_7</td>\n",
       "      <td>When you live your life in a way that is pleas...</td>\n",
       "      <td>[-0.017229679971933365, 0.06264427304267883, -...</td>\n",
       "    </tr>\n",
       "  </tbody>\n",
       "</table>\n",
       "</div>"
      ],
      "text/plain": [
       "       doc_id                                               text  \\\n",
       "0  1711818_11  During the first part of the war, the M-14 was...   \n",
       "1   2898971_4  my religion is umm... oh.. ''Moonism'' and you...   \n",
       "2    610031_8  democracy is suposed to be for example a gover...   \n",
       "3    657762_0  I suppose since they've been naming hurricanes...   \n",
       "4   2449050_7  When you live your life in a way that is pleas...   \n",
       "\n",
       "                                           embedding  \n",
       "0  [-0.012949175201356411, 0.11205881834030151, 0...  \n",
       "1  [0.01773860864341259, -0.01257272157818079, 0....  \n",
       "2  [-0.014321690425276756, -0.04826303571462631, ...  \n",
       "3  [-0.04391418769955635, -0.016200868412852287, ...  \n",
       "4  [-0.017229679971933365, 0.06264427304267883, -...  "
      ]
     },
     "metadata": {},
     "output_type": "display_data"
    },
    {
     "name": "stdout",
     "output_type": "stream",
     "text": [
      "\n",
      "Validation Combined DataFrame:\n"
     ]
    },
    {
     "data": {
      "text/html": [
       "<div>\n",
       "<style scoped>\n",
       "    .dataframe tbody tr th:only-of-type {\n",
       "        vertical-align: middle;\n",
       "    }\n",
       "\n",
       "    .dataframe tbody tr th {\n",
       "        vertical-align: top;\n",
       "    }\n",
       "\n",
       "    .dataframe thead th {\n",
       "        text-align: right;\n",
       "    }\n",
       "</style>\n",
       "<table border=\"1\" class=\"dataframe\">\n",
       "  <thead>\n",
       "    <tr style=\"text-align: right;\">\n",
       "      <th></th>\n",
       "      <th>doc_id</th>\n",
       "      <th>text</th>\n",
       "      <th>embedding</th>\n",
       "    </tr>\n",
       "  </thead>\n",
       "  <tbody>\n",
       "    <tr>\n",
       "      <th>0</th>\n",
       "      <td>2904891_8</td>\n",
       "      <td>IN ANGER HUMANS RESPOND BY DOING TO OTHER PEOP...</td>\n",
       "      <td>[0.06494822353124619, 0.0025993359740823507, 0...</td>\n",
       "    </tr>\n",
       "    <tr>\n",
       "      <th>1</th>\n",
       "      <td>2254222_3</td>\n",
       "      <td>It is not correct to suppose that nothing is t...</td>\n",
       "      <td>[-0.04835139587521553, 0.018058868125081062, -...</td>\n",
       "    </tr>\n",
       "    <tr>\n",
       "      <th>2</th>\n",
       "      <td>4047817_4</td>\n",
       "      <td>Cause puppies are adorable, fun to watch them ...</td>\n",
       "      <td>[-0.03127238526940346, -0.008739751763641834, ...</td>\n",
       "    </tr>\n",
       "    <tr>\n",
       "      <th>3</th>\n",
       "      <td>2101776_1</td>\n",
       "      <td>blow your nose</td>\n",
       "      <td>[0.05105193331837654, 0.004676510114222765, 0....</td>\n",
       "    </tr>\n",
       "    <tr>\n",
       "      <th>4</th>\n",
       "      <td>2775108_4</td>\n",
       "      <td>Wht model of ipod do u have ??</td>\n",
       "      <td>[-0.0021119285374879837, 0.024135807529091835,...</td>\n",
       "    </tr>\n",
       "  </tbody>\n",
       "</table>\n",
       "</div>"
      ],
      "text/plain": [
       "      doc_id                                               text  \\\n",
       "0  2904891_8  IN ANGER HUMANS RESPOND BY DOING TO OTHER PEOP...   \n",
       "1  2254222_3  It is not correct to suppose that nothing is t...   \n",
       "2  4047817_4  Cause puppies are adorable, fun to watch them ...   \n",
       "3  2101776_1                                     blow your nose   \n",
       "4  2775108_4                     Wht model of ipod do u have ??   \n",
       "\n",
       "                                           embedding  \n",
       "0  [0.06494822353124619, 0.0025993359740823507, 0...  \n",
       "1  [-0.04835139587521553, 0.018058868125081062, -...  \n",
       "2  [-0.03127238526940346, -0.008739751763641834, ...  \n",
       "3  [0.05105193331837654, 0.004676510114222765, 0....  \n",
       "4  [-0.0021119285374879837, 0.024135807529091835,...  "
      ]
     },
     "metadata": {},
     "output_type": "display_data"
    }
   ],
   "source": [
    "# Display first few rows\n",
    "print(\"Train Combined DataFrame:\")\n",
    "display(train_df.head())\n",
    "\n",
    "print(\"\\nValidation Combined DataFrame:\")\n",
    "display(valid_df.head())"
   ]
  }
 ],
 "metadata": {
  "kernelspec": {
   "display_name": ".venv",
   "language": "python",
   "name": "python3"
  },
  "language_info": {
   "codemirror_mode": {
    "name": "ipython",
    "version": 3
   },
   "file_extension": ".py",
   "mimetype": "text/x-python",
   "name": "python",
   "nbconvert_exporter": "python",
   "pygments_lexer": "ipython3",
   "version": "3.10.7"
  }
 },
 "nbformat": 4,
 "nbformat_minor": 2
}
