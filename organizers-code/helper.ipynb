{
 "cells": [
  {
   "cell_type": "markdown",
   "metadata": {},
   "source": [
    "### Loading the document embeddings"
   ]
  },
  {
   "cell_type": "code",
   "execution_count": 2,
   "metadata": {},
   "outputs": [
    {
     "name": "stdout",
     "output_type": "stream",
     "text": [
      "          doc_id                                     doc_embeddings\n",
      "0      1964316_5  [-0.0132087674, -0.0825422108, 0.0144632952, -...\n",
      "1     1674088_11  [0.0110482518, 0.09191861, 0.00595060643, 0.00...\n",
      "2     1218838_13  [-0.0290984362, 0.058977358, -0.0251658596, -0...\n",
      "3     1519022_15  [-0.0271731708, 0.0373504609, 0.0298253279, -0...\n",
      "4      3059341_5  [-0.00224227854, -0.0586593598, 0.0215318352, ...\n",
      "...          ...                                                ...\n",
      "6481    247023_6  [0.0285549182, -0.0799941644, -0.000722727331,...\n",
      "6482   1499030_5  [0.0117990598, -0.0142808128, -0.0145873558, -...\n",
      "6483   2916758_0  [0.0143310865, 0.00705553312, 0.00457704067, -...\n",
      "6484  1105845_15  [0.0133153796, 0.0152588673, 0.000567730691, 0...\n",
      "6485   3699008_1  [-0.0214124434, -0.0110130869, 0.0243909713, -...\n",
      "\n",
      "[6486 rows x 2 columns]\n"
     ]
    }
   ],
   "source": [
    "import pandas as pd\n",
    "import numpy as np\n",
    "\n",
    "doc_emb_df = pd.read_csv('antique_doc_embeddings.csv')\n",
    "\n",
    "# Convert strings back to NumPy vectors\n",
    "doc_emb_df['doc_embeddings'] = [np.fromstring(vec[1:-1], dtype=float, sep=',') for vec in doc_emb_df['doc_embeddings']]\n",
    "\n",
    "print(doc_emb_df)"
   ]
  },
  {
   "cell_type": "code",
   "execution_count": 3,
   "metadata": {},
   "outputs": [
    {
     "name": "stdout",
     "output_type": "stream",
     "text": [
      "<class 'pandas.core.frame.DataFrame'>\n",
      "RangeIndex: 6486 entries, 0 to 6485\n",
      "Data columns (total 2 columns):\n",
      " #   Column          Non-Null Count  Dtype \n",
      "---  ------          --------------  ----- \n",
      " 0   doc_id          6486 non-null   object\n",
      " 1   doc_embeddings  6486 non-null   object\n",
      "dtypes: object(2)\n",
      "memory usage: 101.5+ KB\n"
     ]
    }
   ],
   "source": [
    "doc_emb_df.info()"
   ]
  },
  {
   "cell_type": "code",
   "execution_count": 4,
   "metadata": {},
   "outputs": [
    {
     "data": {
      "text/html": [
       "<div>\n",
       "<style scoped>\n",
       "    .dataframe tbody tr th:only-of-type {\n",
       "        vertical-align: middle;\n",
       "    }\n",
       "\n",
       "    .dataframe tbody tr th {\n",
       "        vertical-align: top;\n",
       "    }\n",
       "\n",
       "    .dataframe thead th {\n",
       "        text-align: right;\n",
       "    }\n",
       "</style>\n",
       "<table border=\"1\" class=\"dataframe\">\n",
       "  <thead>\n",
       "    <tr style=\"text-align: right;\">\n",
       "      <th></th>\n",
       "      <th>doc_id</th>\n",
       "      <th>doc_embeddings</th>\n",
       "    </tr>\n",
       "  </thead>\n",
       "  <tbody>\n",
       "    <tr>\n",
       "      <th>0</th>\n",
       "      <td>1964316_5</td>\n",
       "      <td>[-0.0132087674, -0.0825422108, 0.0144632952, -...</td>\n",
       "    </tr>\n",
       "    <tr>\n",
       "      <th>1</th>\n",
       "      <td>1674088_11</td>\n",
       "      <td>[0.0110482518, 0.09191861, 0.00595060643, 0.00...</td>\n",
       "    </tr>\n",
       "    <tr>\n",
       "      <th>2</th>\n",
       "      <td>1218838_13</td>\n",
       "      <td>[-0.0290984362, 0.058977358, -0.0251658596, -0...</td>\n",
       "    </tr>\n",
       "    <tr>\n",
       "      <th>3</th>\n",
       "      <td>1519022_15</td>\n",
       "      <td>[-0.0271731708, 0.0373504609, 0.0298253279, -0...</td>\n",
       "    </tr>\n",
       "    <tr>\n",
       "      <th>4</th>\n",
       "      <td>3059341_5</td>\n",
       "      <td>[-0.00224227854, -0.0586593598, 0.0215318352, ...</td>\n",
       "    </tr>\n",
       "  </tbody>\n",
       "</table>\n",
       "</div>"
      ],
      "text/plain": [
       "       doc_id                                     doc_embeddings\n",
       "0   1964316_5  [-0.0132087674, -0.0825422108, 0.0144632952, -...\n",
       "1  1674088_11  [0.0110482518, 0.09191861, 0.00595060643, 0.00...\n",
       "2  1218838_13  [-0.0290984362, 0.058977358, -0.0251658596, -0...\n",
       "3  1519022_15  [-0.0271731708, 0.0373504609, 0.0298253279, -0...\n",
       "4   3059341_5  [-0.00224227854, -0.0586593598, 0.0215318352, ..."
      ]
     },
     "execution_count": 4,
     "metadata": {},
     "output_type": "execute_result"
    }
   ],
   "source": [
    "doc_emb_df.head()"
   ]
  },
  {
   "cell_type": "markdown",
   "metadata": {},
   "source": [
    "### Loading the query embeddings"
   ]
  },
  {
   "cell_type": "code",
   "execution_count": 5,
   "metadata": {},
   "outputs": [
    {
     "name": "stdout",
     "output_type": "stream",
     "text": [
      "      query_id                                   query_embeddings      doc_id  \\\n",
      "0      1964316  [0.00820141565, 0.0182990301, 0.0174273867, -0...   1964316_5   \n",
      "1      1964316  [0.00820141565, 0.0182990301, 0.0174273867, -0...  1674088_11   \n",
      "2      1964316  [0.00820141565, 0.0182990301, 0.0174273867, -0...  1218838_13   \n",
      "3      1964316  [0.00820141565, 0.0182990301, 0.0174273867, -0...  1519022_15   \n",
      "4      1964316  [0.00820141565, 0.0182990301, 0.0174273867, -0...   3059341_5   \n",
      "...        ...                                                ...         ...   \n",
      "1646   1957887  [0.074257873, 0.00764932111, 0.0062787463, 0.0...   4375962_5   \n",
      "1647   1957887  [0.074257873, 0.00764932111, 0.0062787463, 0.0...   698757_23   \n",
      "1648   1957887  [0.074257873, 0.00764932111, 0.0062787463, 0.0...   2860539_1   \n",
      "1649   1957887  [0.074257873, 0.00764932111, 0.0062787463, 0.0...   2434074_1   \n",
      "1650   1957887  [0.074257873, 0.00764932111, 0.0062787463, 0.0...   3562931_7   \n",
      "\n",
      "      relevance  \n",
      "0             4  \n",
      "1             1  \n",
      "2             2  \n",
      "3             2  \n",
      "4             2  \n",
      "...         ...  \n",
      "1646          4  \n",
      "1647          2  \n",
      "1648          1  \n",
      "1649          1  \n",
      "1650          2  \n",
      "\n",
      "[1651 rows x 4 columns]\n"
     ]
    }
   ],
   "source": [
    "import pandas as pd\n",
    "import numpy as np\n",
    "\n",
    "df_loaded = pd.read_csv('antique_train_queries.csv')\n",
    "\n",
    "# Convert strings back to NumPy vectors\n",
    "df_loaded['query_embeddings'] = [np.fromstring(vec[1:-1], dtype=float, sep=',') for vec in df_loaded['query_embeddings']]\n",
    "\n",
    "print(df_loaded)"
   ]
  },
  {
   "cell_type": "code",
   "execution_count": 6,
   "metadata": {},
   "outputs": [
    {
     "data": {
      "text/html": [
       "<div>\n",
       "<style scoped>\n",
       "    .dataframe tbody tr th:only-of-type {\n",
       "        vertical-align: middle;\n",
       "    }\n",
       "\n",
       "    .dataframe tbody tr th {\n",
       "        vertical-align: top;\n",
       "    }\n",
       "\n",
       "    .dataframe thead th {\n",
       "        text-align: right;\n",
       "    }\n",
       "</style>\n",
       "<table border=\"1\" class=\"dataframe\">\n",
       "  <thead>\n",
       "    <tr style=\"text-align: right;\">\n",
       "      <th></th>\n",
       "      <th>query_id</th>\n",
       "      <th>query_embeddings</th>\n",
       "      <th>doc_id</th>\n",
       "      <th>relevance</th>\n",
       "    </tr>\n",
       "  </thead>\n",
       "  <tbody>\n",
       "    <tr>\n",
       "      <th>0</th>\n",
       "      <td>1964316</td>\n",
       "      <td>[0.00820141565, 0.0182990301, 0.0174273867, -0...</td>\n",
       "      <td>1964316_5</td>\n",
       "      <td>4</td>\n",
       "    </tr>\n",
       "    <tr>\n",
       "      <th>1</th>\n",
       "      <td>1964316</td>\n",
       "      <td>[0.00820141565, 0.0182990301, 0.0174273867, -0...</td>\n",
       "      <td>1674088_11</td>\n",
       "      <td>1</td>\n",
       "    </tr>\n",
       "    <tr>\n",
       "      <th>2</th>\n",
       "      <td>1964316</td>\n",
       "      <td>[0.00820141565, 0.0182990301, 0.0174273867, -0...</td>\n",
       "      <td>1218838_13</td>\n",
       "      <td>2</td>\n",
       "    </tr>\n",
       "    <tr>\n",
       "      <th>3</th>\n",
       "      <td>1964316</td>\n",
       "      <td>[0.00820141565, 0.0182990301, 0.0174273867, -0...</td>\n",
       "      <td>1519022_15</td>\n",
       "      <td>2</td>\n",
       "    </tr>\n",
       "    <tr>\n",
       "      <th>4</th>\n",
       "      <td>1964316</td>\n",
       "      <td>[0.00820141565, 0.0182990301, 0.0174273867, -0...</td>\n",
       "      <td>3059341_5</td>\n",
       "      <td>2</td>\n",
       "    </tr>\n",
       "  </tbody>\n",
       "</table>\n",
       "</div>"
      ],
      "text/plain": [
       "   query_id                                   query_embeddings      doc_id  \\\n",
       "0   1964316  [0.00820141565, 0.0182990301, 0.0174273867, -0...   1964316_5   \n",
       "1   1964316  [0.00820141565, 0.0182990301, 0.0174273867, -0...  1674088_11   \n",
       "2   1964316  [0.00820141565, 0.0182990301, 0.0174273867, -0...  1218838_13   \n",
       "3   1964316  [0.00820141565, 0.0182990301, 0.0174273867, -0...  1519022_15   \n",
       "4   1964316  [0.00820141565, 0.0182990301, 0.0174273867, -0...   3059341_5   \n",
       "\n",
       "   relevance  \n",
       "0          4  \n",
       "1          1  \n",
       "2          2  \n",
       "3          2  \n",
       "4          2  "
      ]
     },
     "execution_count": 6,
     "metadata": {},
     "output_type": "execute_result"
    }
   ],
   "source": [
    "df_loaded.head()"
   ]
  }
 ],
 "metadata": {
  "kernelspec": {
   "display_name": "Python 3",
   "language": "python",
   "name": "python3"
  },
  "language_info": {
   "codemirror_mode": {
    "name": "ipython",
    "version": 3
   },
   "file_extension": ".py",
   "mimetype": "text/x-python",
   "name": "python",
   "nbconvert_exporter": "python",
   "pygments_lexer": "ipython3",
   "version": "3.10.12"
  },
  "orig_nbformat": 4
 },
 "nbformat": 4,
 "nbformat_minor": 2
}
