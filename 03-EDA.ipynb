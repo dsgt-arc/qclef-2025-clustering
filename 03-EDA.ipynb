{
 "cells": [
  {
   "cell_type": "code",
   "execution_count": 11,
   "metadata": {},
   "outputs": [],
   "source": [
    "import pandas as pd\n",
    "import numpy as np\n",
    "from PIL import Image\n",
    "from ast import literal_eval\n",
    "import os"
   ]
  },
  {
   "cell_type": "markdown",
   "metadata": {},
   "source": [
    "Load + View data"
   ]
  },
  {
   "cell_type": "code",
   "execution_count": null,
   "metadata": {},
   "outputs": [],
   "source": [
    "data_dir = \"data\"\n",
    "output_csv = os.path.join(data_dir, \"antique_train_with_embeddings.csv\")\n",
    "\n",
    "# Define parsing function to properly load embeddings\n",
    "def parse_embedding(text):\n",
    "    return np.array(literal_eval(text), dtype=np.float32)  # Ensures proper float32 parsing\n",
    "\n",
    "# Reload the CSV and correctly parse embeddings\n",
    "train_df = pd.read_csv(output_csv, converters={\n",
    "    \"query_embedding\": parse_embedding,\n",
    "    \"doc_embedding\": parse_embedding\n",
    "})\n",
    "\n",
    "# Display first few rows\n",
    "print(\"Train Combined DataFrame after reloading:\")\n",
    "display(train_df.head())\n",
    "\n",
    "# Verify the dtype of the embeddings\n",
    "print(f\"Query Embedding Type: {type(train_df['query_embedding'].iloc[0])}\")\n",
    "print(f\"Document Embedding Type: {type(train_df['doc_embedding'].iloc[0])}\")"
   ]
  },
  {
   "cell_type": "code",
   "execution_count": null,
   "metadata": {},
   "outputs": [],
   "source": []
  }
 ],
 "metadata": {
  "kernelspec": {
   "display_name": ".venv",
   "language": "python",
   "name": "python3"
  },
  "language_info": {
   "codemirror_mode": {
    "name": "ipython",
    "version": 3
   },
   "file_extension": ".py",
   "mimetype": "text/x-python",
   "name": "python",
   "nbconvert_exporter": "python",
   "pygments_lexer": "ipython3",
   "version": "3.10.7"
  }
 },
 "nbformat": 4,
 "nbformat_minor": 2
}
