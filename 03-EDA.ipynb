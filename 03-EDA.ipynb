{
 "cells": [
  {
   "cell_type": "code",
   "execution_count": 1,
   "metadata": {},
   "outputs": [],
   "source": [
    "import pandas as pd\n",
    "import numpy as np"
   ]
  },
  {
   "cell_type": "markdown",
   "metadata": {},
   "source": [
    "Read data"
   ]
  },
  {
   "cell_type": "code",
   "execution_count": null,
   "metadata": {},
   "outputs": [],
   "source": [
    "# Load the combined dataset\n",
    "train_df = pd.read_csv(\"data/antique_train_with_embeddings.csv\", converters={\"embedding\": eval})\n",
    "valid_df = pd.read_csv(\"data/antique_valid_with_embeddings.csv\", converters={\"embedding\": eval})\n",
    "\n",
    "# NOTE: converters={\"embedding\": eval} needed to convert the embedding column from a string representation of a list (happens when saving to CSV) back into an actual python list when loading the CSV"
   ]
  },
  {
   "cell_type": "markdown",
   "metadata": {},
   "source": [
    "View data"
   ]
  },
  {
   "cell_type": "code",
   "execution_count": 6,
   "metadata": {},
   "outputs": [
    {
     "name": "stdout",
     "output_type": "stream",
     "text": [
      "Train Combined DataFrame:\n"
     ]
    },
    {
     "data": {
      "text/html": [
       "<div>\n",
       "<style scoped>\n",
       "    .dataframe tbody tr th:only-of-type {\n",
       "        vertical-align: middle;\n",
       "    }\n",
       "\n",
       "    .dataframe tbody tr th {\n",
       "        vertical-align: top;\n",
       "    }\n",
       "\n",
       "    .dataframe thead th {\n",
       "        text-align: right;\n",
       "    }\n",
       "</style>\n",
       "<table border=\"1\" class=\"dataframe\">\n",
       "  <thead>\n",
       "    <tr style=\"text-align: right;\">\n",
       "      <th></th>\n",
       "      <th>doc_id</th>\n",
       "      <th>text</th>\n",
       "      <th>embedding</th>\n",
       "    </tr>\n",
       "  </thead>\n",
       "  <tbody>\n",
       "    <tr>\n",
       "      <th>0</th>\n",
       "      <td>1711818_11</td>\n",
       "      <td>During the first part of the war, the M-14 was...</td>\n",
       "      <td>[-0.012949175201356411, 0.11205881834030151, 0...</td>\n",
       "    </tr>\n",
       "    <tr>\n",
       "      <th>1</th>\n",
       "      <td>2898971_4</td>\n",
       "      <td>my religion is umm... oh.. ''Moonism'' and you...</td>\n",
       "      <td>[0.01773860864341259, -0.01257272157818079, 0....</td>\n",
       "    </tr>\n",
       "    <tr>\n",
       "      <th>2</th>\n",
       "      <td>610031_8</td>\n",
       "      <td>democracy is suposed to be for example a gover...</td>\n",
       "      <td>[-0.014321690425276756, -0.04826303571462631, ...</td>\n",
       "    </tr>\n",
       "    <tr>\n",
       "      <th>3</th>\n",
       "      <td>657762_0</td>\n",
       "      <td>I suppose since they've been naming hurricanes...</td>\n",
       "      <td>[-0.04391418769955635, -0.016200868412852287, ...</td>\n",
       "    </tr>\n",
       "    <tr>\n",
       "      <th>4</th>\n",
       "      <td>2449050_7</td>\n",
       "      <td>When you live your life in a way that is pleas...</td>\n",
       "      <td>[-0.017229679971933365, 0.06264427304267883, -...</td>\n",
       "    </tr>\n",
       "  </tbody>\n",
       "</table>\n",
       "</div>"
      ],
      "text/plain": [
       "       doc_id                                               text  \\\n",
       "0  1711818_11  During the first part of the war, the M-14 was...   \n",
       "1   2898971_4  my religion is umm... oh.. ''Moonism'' and you...   \n",
       "2    610031_8  democracy is suposed to be for example a gover...   \n",
       "3    657762_0  I suppose since they've been naming hurricanes...   \n",
       "4   2449050_7  When you live your life in a way that is pleas...   \n",
       "\n",
       "                                           embedding  \n",
       "0  [-0.012949175201356411, 0.11205881834030151, 0...  \n",
       "1  [0.01773860864341259, -0.01257272157818079, 0....  \n",
       "2  [-0.014321690425276756, -0.04826303571462631, ...  \n",
       "3  [-0.04391418769955635, -0.016200868412852287, ...  \n",
       "4  [-0.017229679971933365, 0.06264427304267883, -...  "
      ]
     },
     "metadata": {},
     "output_type": "display_data"
    },
    {
     "name": "stdout",
     "output_type": "stream",
     "text": [
      "\n",
      "Validation Combined DataFrame:\n"
     ]
    },
    {
     "data": {
      "text/html": [
       "<div>\n",
       "<style scoped>\n",
       "    .dataframe tbody tr th:only-of-type {\n",
       "        vertical-align: middle;\n",
       "    }\n",
       "\n",
       "    .dataframe tbody tr th {\n",
       "        vertical-align: top;\n",
       "    }\n",
       "\n",
       "    .dataframe thead th {\n",
       "        text-align: right;\n",
       "    }\n",
       "</style>\n",
       "<table border=\"1\" class=\"dataframe\">\n",
       "  <thead>\n",
       "    <tr style=\"text-align: right;\">\n",
       "      <th></th>\n",
       "      <th>doc_id</th>\n",
       "      <th>text</th>\n",
       "      <th>embedding</th>\n",
       "    </tr>\n",
       "  </thead>\n",
       "  <tbody>\n",
       "    <tr>\n",
       "      <th>0</th>\n",
       "      <td>2904891_8</td>\n",
       "      <td>IN ANGER HUMANS RESPOND BY DOING TO OTHER PEOP...</td>\n",
       "      <td>[0.06494822353124619, 0.0025993359740823507, 0...</td>\n",
       "    </tr>\n",
       "    <tr>\n",
       "      <th>1</th>\n",
       "      <td>2254222_3</td>\n",
       "      <td>It is not correct to suppose that nothing is t...</td>\n",
       "      <td>[-0.04835139587521553, 0.018058868125081062, -...</td>\n",
       "    </tr>\n",
       "    <tr>\n",
       "      <th>2</th>\n",
       "      <td>4047817_4</td>\n",
       "      <td>Cause puppies are adorable, fun to watch them ...</td>\n",
       "      <td>[-0.03127238526940346, -0.008739751763641834, ...</td>\n",
       "    </tr>\n",
       "    <tr>\n",
       "      <th>3</th>\n",
       "      <td>2101776_1</td>\n",
       "      <td>blow your nose</td>\n",
       "      <td>[0.05105193331837654, 0.004676510114222765, 0....</td>\n",
       "    </tr>\n",
       "    <tr>\n",
       "      <th>4</th>\n",
       "      <td>2775108_4</td>\n",
       "      <td>Wht model of ipod do u have ??</td>\n",
       "      <td>[-0.0021119285374879837, 0.024135807529091835,...</td>\n",
       "    </tr>\n",
       "  </tbody>\n",
       "</table>\n",
       "</div>"
      ],
      "text/plain": [
       "      doc_id                                               text  \\\n",
       "0  2904891_8  IN ANGER HUMANS RESPOND BY DOING TO OTHER PEOP...   \n",
       "1  2254222_3  It is not correct to suppose that nothing is t...   \n",
       "2  4047817_4  Cause puppies are adorable, fun to watch them ...   \n",
       "3  2101776_1                                     blow your nose   \n",
       "4  2775108_4                     Wht model of ipod do u have ??   \n",
       "\n",
       "                                           embedding  \n",
       "0  [0.06494822353124619, 0.0025993359740823507, 0...  \n",
       "1  [-0.04835139587521553, 0.018058868125081062, -...  \n",
       "2  [-0.03127238526940346, -0.008739751763641834, ...  \n",
       "3  [0.05105193331837654, 0.004676510114222765, 0....  \n",
       "4  [-0.0021119285374879837, 0.024135807529091835,...  "
      ]
     },
     "metadata": {},
     "output_type": "display_data"
    }
   ],
   "source": [
    "# Display first few rows\n",
    "print(\"Train Combined DataFrame:\")\n",
    "display(train_df.head())\n",
    "\n",
    "print(\"\\nValidation Combined DataFrame:\")\n",
    "display(valid_df.head())"
   ]
  },
  {
   "cell_type": "code",
   "execution_count": null,
   "metadata": {},
   "outputs": [],
   "source": []
  }
 ],
 "metadata": {
  "kernelspec": {
   "display_name": ".venv",
   "language": "python",
   "name": "python3"
  },
  "language_info": {
   "codemirror_mode": {
    "name": "ipython",
    "version": 3
   },
   "file_extension": ".py",
   "mimetype": "text/x-python",
   "name": "python",
   "nbconvert_exporter": "python",
   "pygments_lexer": "ipython3",
   "version": "3.10.7"
  }
 },
 "nbformat": 4,
 "nbformat_minor": 2
}
