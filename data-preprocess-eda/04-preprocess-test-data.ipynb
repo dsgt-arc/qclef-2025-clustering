{
 "cells": [
  {
   "cell_type": "code",
   "execution_count": 1,
   "metadata": {},
   "outputs": [
    {
     "name": "stderr",
     "output_type": "stream",
     "text": [
      "c:\\Users\\karishma\\OneDrive\\Projects\\qCLEF\\.venv\\lib\\site-packages\\tqdm\\auto.py:21: TqdmWarning: IProgress not found. Please update jupyter and ipywidgets. See https://ipywidgets.readthedocs.io/en/stable/user_install.html\n",
      "  from .autonotebook import tqdm as notebook_tqdm\n"
     ]
    }
   ],
   "source": [
    "from sentence_transformers import SentenceTransformer\n",
    "import numpy as np\n",
    "import pandas as pd\n",
    "import os\n",
    "from ast import literal_eval"
   ]
  },
  {
   "cell_type": "code",
   "execution_count": 2,
   "metadata": {},
   "outputs": [
    {
     "name": "stdout",
     "output_type": "stream",
     "text": [
      "Merged test dataset saved to c:\\Users\\karishma\\OneDrive\\Projects\\qCLEF\\data\\antique_test_merged.csv\n"
     ]
    }
   ],
   "source": [
    "data_preprocess_eda_dir = os.getcwd()\n",
    "data_dir = os.path.abspath(os.path.join(data_preprocess_eda_dir, \"..\", \"data\"))\n",
    "\n",
    "queries_file = os.path.join(data_dir, \"antique_test_queries.csv\")\n",
    "qrels_file = os.path.join(data_dir, \"antique_test_qrels.csv\")\n",
    "docs_file = os.path.join(data_dir, \"antique_test_docs.csv\")\n",
    "\n",
    "queries_df = pd.read_csv(queries_file, dtype={\"query_id\": str})\n",
    "qrels_df = pd.read_csv(qrels_file, dtype={\"query_id\": str, \"doc_id\": str})\n",
    "docs_df = pd.read_csv(docs_file, dtype={\"doc_id\": str})\n",
    "\n",
    "merged_df = qrels_df.merge(queries_df, on=\"query_id\", how=\"left\")\n",
    "merged_df = merged_df.merge(docs_df, on=\"doc_id\", how=\"left\")\n",
    "\n",
    "merged_df.rename(columns={\"text_x\": \"query_text\", \"text_y\": \"doc_text\"}, inplace=True)\n",
    "\n",
    "merged_file = os.path.join(data_dir, \"antique_test_merged.csv\")\n",
    "merged_df.to_csv(merged_file, index=False)\n",
    "\n",
    "print(f\"Merged test dataset saved to {merged_file}\")"
   ]
  },
  {
   "cell_type": "code",
   "execution_count": 3,
   "metadata": {},
   "outputs": [
    {
     "data": {
      "text/html": [
       "<div>\n",
       "<style scoped>\n",
       "    .dataframe tbody tr th:only-of-type {\n",
       "        vertical-align: middle;\n",
       "    }\n",
       "\n",
       "    .dataframe tbody tr th {\n",
       "        vertical-align: top;\n",
       "    }\n",
       "\n",
       "    .dataframe thead th {\n",
       "        text-align: right;\n",
       "    }\n",
       "</style>\n",
       "<table border=\"1\" class=\"dataframe\">\n",
       "  <thead>\n",
       "    <tr style=\"text-align: right;\">\n",
       "      <th></th>\n",
       "      <th>query_id</th>\n",
       "      <th>doc_id</th>\n",
       "      <th>relevance</th>\n",
       "      <th>iteration</th>\n",
       "      <th>query_text</th>\n",
       "      <th>doc_text</th>\n",
       "    </tr>\n",
       "  </thead>\n",
       "  <tbody>\n",
       "    <tr>\n",
       "      <th>0</th>\n",
       "      <td>1964316</td>\n",
       "      <td>1964316_5</td>\n",
       "      <td>4</td>\n",
       "      <td>U0</td>\n",
       "      <td>What do you mean by \"weed\"?</td>\n",
       "      <td>Weed could mean the bad thing that grow in ur ...</td>\n",
       "    </tr>\n",
       "    <tr>\n",
       "      <th>1</th>\n",
       "      <td>1964316</td>\n",
       "      <td>1674088_11</td>\n",
       "      <td>1</td>\n",
       "      <td>Q0</td>\n",
       "      <td>What do you mean by \"weed\"?</td>\n",
       "      <td>sell weed</td>\n",
       "    </tr>\n",
       "    <tr>\n",
       "      <th>2</th>\n",
       "      <td>1964316</td>\n",
       "      <td>1218838_13</td>\n",
       "      <td>2</td>\n",
       "      <td>Q0</td>\n",
       "      <td>What do you mean by \"weed\"?</td>\n",
       "      <td>My weed!!</td>\n",
       "    </tr>\n",
       "    <tr>\n",
       "      <th>3</th>\n",
       "      <td>1964316</td>\n",
       "      <td>1519022_15</td>\n",
       "      <td>2</td>\n",
       "      <td>Q0</td>\n",
       "      <td>What do you mean by \"weed\"?</td>\n",
       "      <td>because we dont know what the hell to make leg...</td>\n",
       "    </tr>\n",
       "    <tr>\n",
       "      <th>4</th>\n",
       "      <td>1964316</td>\n",
       "      <td>3059341_5</td>\n",
       "      <td>2</td>\n",
       "      <td>Q0</td>\n",
       "      <td>What do you mean by \"weed\"?</td>\n",
       "      <td>Its a weed.</td>\n",
       "    </tr>\n",
       "  </tbody>\n",
       "</table>\n",
       "</div>"
      ],
      "text/plain": [
       "  query_id      doc_id  relevance iteration                   query_text  \\\n",
       "0  1964316   1964316_5          4        U0  What do you mean by \"weed\"?   \n",
       "1  1964316  1674088_11          1        Q0  What do you mean by \"weed\"?   \n",
       "2  1964316  1218838_13          2        Q0  What do you mean by \"weed\"?   \n",
       "3  1964316  1519022_15          2        Q0  What do you mean by \"weed\"?   \n",
       "4  1964316   3059341_5          2        Q0  What do you mean by \"weed\"?   \n",
       "\n",
       "                                            doc_text  \n",
       "0  Weed could mean the bad thing that grow in ur ...  \n",
       "1                                          sell weed  \n",
       "2                                          My weed!!  \n",
       "3  because we dont know what the hell to make leg...  \n",
       "4                                        Its a weed.  "
      ]
     },
     "execution_count": 3,
     "metadata": {},
     "output_type": "execute_result"
    }
   ],
   "source": [
    "merged_df.head()"
   ]
  },
  {
   "cell_type": "code",
   "execution_count": 4,
   "metadata": {},
   "outputs": [
    {
     "name": "stderr",
     "output_type": "stream",
     "text": [
      "Batches: 100%|██████████| 206/206 [00:01<00:00, 129.30it/s]\n",
      "Batches: 100%|██████████| 206/206 [00:03<00:00, 66.88it/s] \n"
     ]
    },
    {
     "name": "stdout",
     "output_type": "stream",
     "text": [
      "Test DataFrame with embeddings saved to c:\\Users\\karishma\\OneDrive\\Projects\\qCLEF\\data\\antique_test_with_embeddings.csv\n"
     ]
    }
   ],
   "source": [
    "data_dir = os.path.abspath(os.path.join(os.getcwd(), \"..\", \"data\"))\n",
    "output_csv = os.path.join(data_dir, \"antique_test_with_embeddings.csv\")\n",
    "\n",
    "test_df = pd.read_csv(os.path.join(data_dir, \"antique_test_merged.csv\"))\n",
    "\n",
    "model = SentenceTransformer(\"sentence-transformers/all-MiniLM-L6-v2\")\n",
    "\n",
    "def encode_texts(texts):\n",
    "    return model.encode(texts, batch_size=32, convert_to_numpy=True, show_progress_bar=True)\n",
    "\n",
    "query_embeddings = encode_texts(test_df[\"query_text\"].tolist())\n",
    "doc_embeddings = encode_texts(test_df[\"doc_text\"].tolist())\n",
    "\n",
    "test_df[\"query_embedding\"] = query_embeddings.tolist()\n",
    "test_df[\"doc_embedding\"] = doc_embeddings.tolist()\n",
    "\n",
    "test_df.to_csv(output_csv, index=False, float_format=\"%.18f\")\n",
    "\n",
    "print(f\"Test DataFrame with embeddings saved to {output_csv}\")"
   ]
  },
  {
   "cell_type": "code",
   "execution_count": 5,
   "metadata": {},
   "outputs": [
    {
     "data": {
      "text/html": [
       "<div>\n",
       "<style scoped>\n",
       "    .dataframe tbody tr th:only-of-type {\n",
       "        vertical-align: middle;\n",
       "    }\n",
       "\n",
       "    .dataframe tbody tr th {\n",
       "        vertical-align: top;\n",
       "    }\n",
       "\n",
       "    .dataframe thead th {\n",
       "        text-align: right;\n",
       "    }\n",
       "</style>\n",
       "<table border=\"1\" class=\"dataframe\">\n",
       "  <thead>\n",
       "    <tr style=\"text-align: right;\">\n",
       "      <th></th>\n",
       "      <th>query_id</th>\n",
       "      <th>doc_id</th>\n",
       "      <th>relevance</th>\n",
       "      <th>iteration</th>\n",
       "      <th>query_text</th>\n",
       "      <th>doc_text</th>\n",
       "      <th>query_embedding</th>\n",
       "      <th>doc_embedding</th>\n",
       "    </tr>\n",
       "  </thead>\n",
       "  <tbody>\n",
       "    <tr>\n",
       "      <th>0</th>\n",
       "      <td>1964316</td>\n",
       "      <td>1964316_5</td>\n",
       "      <td>4</td>\n",
       "      <td>U0</td>\n",
       "      <td>What do you mean by \"weed\"?</td>\n",
       "      <td>Weed could mean the bad thing that grow in ur ...</td>\n",
       "      <td>[0.03988630697131157, 0.007177216000854969, -0...</td>\n",
       "      <td>[0.031502485275268555, 0.021122073754668236, -...</td>\n",
       "    </tr>\n",
       "    <tr>\n",
       "      <th>1</th>\n",
       "      <td>1964316</td>\n",
       "      <td>1674088_11</td>\n",
       "      <td>1</td>\n",
       "      <td>Q0</td>\n",
       "      <td>What do you mean by \"weed\"?</td>\n",
       "      <td>sell weed</td>\n",
       "      <td>[0.03988630697131157, 0.007177216000854969, -0...</td>\n",
       "      <td>[0.05643288791179657, 0.04761527478694916, -0....</td>\n",
       "    </tr>\n",
       "    <tr>\n",
       "      <th>2</th>\n",
       "      <td>1964316</td>\n",
       "      <td>1218838_13</td>\n",
       "      <td>2</td>\n",
       "      <td>Q0</td>\n",
       "      <td>What do you mean by \"weed\"?</td>\n",
       "      <td>My weed!!</td>\n",
       "      <td>[0.03988630697131157, 0.007177216000854969, -0...</td>\n",
       "      <td>[-0.02230476588010788, 0.05732327699661255, -0...</td>\n",
       "    </tr>\n",
       "    <tr>\n",
       "      <th>3</th>\n",
       "      <td>1964316</td>\n",
       "      <td>1519022_15</td>\n",
       "      <td>2</td>\n",
       "      <td>Q0</td>\n",
       "      <td>What do you mean by \"weed\"?</td>\n",
       "      <td>because we dont know what the hell to make leg...</td>\n",
       "      <td>[0.03988630697131157, 0.007177216000854969, -0...</td>\n",
       "      <td>[0.09742356091737747, -0.10034129023551941, 0....</td>\n",
       "    </tr>\n",
       "    <tr>\n",
       "      <th>4</th>\n",
       "      <td>1964316</td>\n",
       "      <td>3059341_5</td>\n",
       "      <td>2</td>\n",
       "      <td>Q0</td>\n",
       "      <td>What do you mean by \"weed\"?</td>\n",
       "      <td>Its a weed.</td>\n",
       "      <td>[0.03988630697131157, 0.007177216000854969, -0...</td>\n",
       "      <td>[0.03170603886246681, 0.03499998152256012, -0....</td>\n",
       "    </tr>\n",
       "  </tbody>\n",
       "</table>\n",
       "</div>"
      ],
      "text/plain": [
       "   query_id      doc_id  relevance iteration                   query_text  \\\n",
       "0   1964316   1964316_5          4        U0  What do you mean by \"weed\"?   \n",
       "1   1964316  1674088_11          1        Q0  What do you mean by \"weed\"?   \n",
       "2   1964316  1218838_13          2        Q0  What do you mean by \"weed\"?   \n",
       "3   1964316  1519022_15          2        Q0  What do you mean by \"weed\"?   \n",
       "4   1964316   3059341_5          2        Q0  What do you mean by \"weed\"?   \n",
       "\n",
       "                                            doc_text  \\\n",
       "0  Weed could mean the bad thing that grow in ur ...   \n",
       "1                                          sell weed   \n",
       "2                                          My weed!!   \n",
       "3  because we dont know what the hell to make leg...   \n",
       "4                                        Its a weed.   \n",
       "\n",
       "                                     query_embedding  \\\n",
       "0  [0.03988630697131157, 0.007177216000854969, -0...   \n",
       "1  [0.03988630697131157, 0.007177216000854969, -0...   \n",
       "2  [0.03988630697131157, 0.007177216000854969, -0...   \n",
       "3  [0.03988630697131157, 0.007177216000854969, -0...   \n",
       "4  [0.03988630697131157, 0.007177216000854969, -0...   \n",
       "\n",
       "                                       doc_embedding  \n",
       "0  [0.031502485275268555, 0.021122073754668236, -...  \n",
       "1  [0.05643288791179657, 0.04761527478694916, -0....  \n",
       "2  [-0.02230476588010788, 0.05732327699661255, -0...  \n",
       "3  [0.09742356091737747, -0.10034129023551941, 0....  \n",
       "4  [0.03170603886246681, 0.03499998152256012, -0....  "
      ]
     },
     "execution_count": 5,
     "metadata": {},
     "output_type": "execute_result"
    }
   ],
   "source": [
    "test_df.head()"
   ]
  },
  {
   "cell_type": "code",
   "execution_count": null,
   "metadata": {},
   "outputs": [],
   "source": []
  }
 ],
 "metadata": {
  "kernelspec": {
   "display_name": ".venv",
   "language": "python",
   "name": "python3"
  },
  "language_info": {
   "codemirror_mode": {
    "name": "ipython",
    "version": 3
   },
   "file_extension": ".py",
   "mimetype": "text/x-python",
   "name": "python",
   "nbconvert_exporter": "python",
   "pygments_lexer": "ipython3",
   "version": "3.10.7"
  }
 },
 "nbformat": 4,
 "nbformat_minor": 2
}
