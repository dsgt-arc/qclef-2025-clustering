{
 "cells": [
  {
   "cell_type": "code",
   "execution_count": 1,
   "metadata": {},
   "outputs": [
    {
     "name": "stderr",
     "output_type": "stream",
     "text": [
      "c:\\Users\\karishma\\OneDrive\\Projects\\qCLEF\\.venv\\lib\\site-packages\\tqdm\\auto.py:21: TqdmWarning: IProgress not found. Please update jupyter and ipywidgets. See https://ipywidgets.readthedocs.io/en/stable/user_install.html\n",
      "  from .autonotebook import tqdm as notebook_tqdm\n"
     ]
    }
   ],
   "source": [
    "import os\n",
    "import pandas as pd\n",
    "import numpy as np\n",
    "from sentence_transformers import SentenceTransformer\n",
    "import ast"
   ]
  },
  {
   "cell_type": "markdown",
   "metadata": {},
   "source": [
    "Combine relevant files"
   ]
  },
  {
   "cell_type": "code",
   "execution_count": null,
   "metadata": {},
   "outputs": [],
   "source": [
    "data_preprocess_eda_dir = os.getcwd()\n",
    "data_dir = os.path.abspath(os.path.join(data_preprocess_eda_dir, \"..\", \"data\"))\n",
    "\n",
    "queries_file = os.path.join(data_dir, \"antique_train_queries.csv\")\n",
    "qrels_file = os.path.join(data_dir, \"antique_train_qrels.csv\")\n",
    "docs_file = os.path.join(data_dir, \"antique_train_docs.csv\")\n",
    "\n",
    "queries_df = pd.read_csv(queries_file, dtype={\"query_id\": str})\n",
    "qrels_df = pd.read_csv(qrels_file, dtype={\"query_id\": str, \"doc_id\": str})\n",
    "docs_df = pd.read_csv(docs_file, dtype={\"doc_id\": str})"
   ]
  },
  {
   "cell_type": "code",
   "execution_count": 4,
   "metadata": {},
   "outputs": [],
   "source": [
    "merged_df = qrels_df.merge(queries_df, on=\"query_id\", how=\"left\")"
   ]
  },
  {
   "cell_type": "code",
   "execution_count": 5,
   "metadata": {},
   "outputs": [],
   "source": [
    "merged_df = merged_df.merge(docs_df, on=\"doc_id\", how=\"left\")"
   ]
  },
  {
   "cell_type": "code",
   "execution_count": 6,
   "metadata": {},
   "outputs": [],
   "source": [
    "merged_df.rename(columns={\"text_x\": \"query_text\", \"text_y\": \"doc_text\"}, inplace=True)"
   ]
  },
  {
   "cell_type": "code",
   "execution_count": null,
   "metadata": {},
   "outputs": [
    {
     "name": "stdout",
     "output_type": "stream",
     "text": [
      "Merged dataset saved to c:\\Users\\karishma\\OneDrive\\Projects\\qCLEF\\data\\antique_train_merged.csv\n"
     ]
    },
    {
     "data": {
      "text/html": [
       "<div>\n",
       "<style scoped>\n",
       "    .dataframe tbody tr th:only-of-type {\n",
       "        vertical-align: middle;\n",
       "    }\n",
       "\n",
       "    .dataframe tbody tr th {\n",
       "        vertical-align: top;\n",
       "    }\n",
       "\n",
       "    .dataframe thead th {\n",
       "        text-align: right;\n",
       "    }\n",
       "</style>\n",
       "<table border=\"1\" class=\"dataframe\">\n",
       "  <thead>\n",
       "    <tr style=\"text-align: right;\">\n",
       "      <th></th>\n",
       "      <th>query_id</th>\n",
       "      <th>doc_id</th>\n",
       "      <th>relevance</th>\n",
       "      <th>iteration</th>\n",
       "      <th>query_text</th>\n",
       "      <th>doc_text</th>\n",
       "    </tr>\n",
       "  </thead>\n",
       "  <tbody>\n",
       "    <tr>\n",
       "      <th>0</th>\n",
       "      <td>2531329</td>\n",
       "      <td>2531329_0</td>\n",
       "      <td>4</td>\n",
       "      <td>U0</td>\n",
       "      <td>Why do some men spit into the urinal before ur...</td>\n",
       "      <td>I do it all the time.  It is kind of a ritual ...</td>\n",
       "    </tr>\n",
       "    <tr>\n",
       "      <th>1</th>\n",
       "      <td>2531329</td>\n",
       "      <td>2531329_5</td>\n",
       "      <td>4</td>\n",
       "      <td>Q0</td>\n",
       "      <td>Why do some men spit into the urinal before ur...</td>\n",
       "      <td>To clear out the mucus deep down in the throat...</td>\n",
       "    </tr>\n",
       "    <tr>\n",
       "      <th>2</th>\n",
       "      <td>2531329</td>\n",
       "      <td>2531329_4</td>\n",
       "      <td>3</td>\n",
       "      <td>Q0</td>\n",
       "      <td>Why do some men spit into the urinal before ur...</td>\n",
       "      <td>maybe they want a target to hit.  Well, I gues...</td>\n",
       "    </tr>\n",
       "    <tr>\n",
       "      <th>3</th>\n",
       "      <td>2531329</td>\n",
       "      <td>2531329_7</td>\n",
       "      <td>3</td>\n",
       "      <td>Q0</td>\n",
       "      <td>Why do some men spit into the urinal before ur...</td>\n",
       "      <td>Where else would we spit?... Apart from sports...</td>\n",
       "    </tr>\n",
       "    <tr>\n",
       "      <th>4</th>\n",
       "      <td>2531329</td>\n",
       "      <td>2531329_6</td>\n",
       "      <td>3</td>\n",
       "      <td>Q0</td>\n",
       "      <td>Why do some men spit into the urinal before ur...</td>\n",
       "      <td>Because they have a cough or phlegm and hacked...</td>\n",
       "    </tr>\n",
       "  </tbody>\n",
       "</table>\n",
       "</div>"
      ],
      "text/plain": [
       "  query_id     doc_id  relevance iteration  \\\n",
       "0  2531329  2531329_0          4        U0   \n",
       "1  2531329  2531329_5          4        Q0   \n",
       "2  2531329  2531329_4          3        Q0   \n",
       "3  2531329  2531329_7          3        Q0   \n",
       "4  2531329  2531329_6          3        Q0   \n",
       "\n",
       "                                          query_text  \\\n",
       "0  Why do some men spit into the urinal before ur...   \n",
       "1  Why do some men spit into the urinal before ur...   \n",
       "2  Why do some men spit into the urinal before ur...   \n",
       "3  Why do some men spit into the urinal before ur...   \n",
       "4  Why do some men spit into the urinal before ur...   \n",
       "\n",
       "                                            doc_text  \n",
       "0  I do it all the time.  It is kind of a ritual ...  \n",
       "1  To clear out the mucus deep down in the throat...  \n",
       "2  maybe they want a target to hit.  Well, I gues...  \n",
       "3  Where else would we spit?... Apart from sports...  \n",
       "4  Because they have a cough or phlegm and hacked...  "
      ]
     },
     "metadata": {},
     "output_type": "display_data"
    }
   ],
   "source": [
    "merged_file = os.path.join(data_dir, \"antique_train_merged.csv\")\n",
    "merged_df.to_csv(merged_file, index=False)\n",
    "\n",
    "print(f\"Merged dataset saved to {merged_file}\")\n",
    "display(merged_df.head())"
   ]
  },
  {
   "cell_type": "markdown",
   "metadata": {},
   "source": [
    "Examine data"
   ]
  },
  {
   "cell_type": "code",
   "execution_count": 9,
   "metadata": {},
   "outputs": [
    {
     "data": {
      "text/html": [
       "<div>\n",
       "<style scoped>\n",
       "    .dataframe tbody tr th:only-of-type {\n",
       "        vertical-align: middle;\n",
       "    }\n",
       "\n",
       "    .dataframe tbody tr th {\n",
       "        vertical-align: top;\n",
       "    }\n",
       "\n",
       "    .dataframe thead th {\n",
       "        text-align: right;\n",
       "    }\n",
       "</style>\n",
       "<table border=\"1\" class=\"dataframe\">\n",
       "  <thead>\n",
       "    <tr style=\"text-align: right;\">\n",
       "      <th></th>\n",
       "      <th>query_id</th>\n",
       "      <th>doc_id</th>\n",
       "      <th>relevance</th>\n",
       "      <th>iteration</th>\n",
       "      <th>query_text</th>\n",
       "      <th>doc_text</th>\n",
       "    </tr>\n",
       "  </thead>\n",
       "  <tbody>\n",
       "    <tr>\n",
       "      <th>0</th>\n",
       "      <td>2531329</td>\n",
       "      <td>2531329_0</td>\n",
       "      <td>4</td>\n",
       "      <td>U0</td>\n",
       "      <td>Why do some men spit into the urinal before ur...</td>\n",
       "      <td>I do it all the time.  It is kind of a ritual ...</td>\n",
       "    </tr>\n",
       "    <tr>\n",
       "      <th>1</th>\n",
       "      <td>2531329</td>\n",
       "      <td>2531329_5</td>\n",
       "      <td>4</td>\n",
       "      <td>Q0</td>\n",
       "      <td>Why do some men spit into the urinal before ur...</td>\n",
       "      <td>To clear out the mucus deep down in the throat...</td>\n",
       "    </tr>\n",
       "    <tr>\n",
       "      <th>2</th>\n",
       "      <td>2531329</td>\n",
       "      <td>2531329_4</td>\n",
       "      <td>3</td>\n",
       "      <td>Q0</td>\n",
       "      <td>Why do some men spit into the urinal before ur...</td>\n",
       "      <td>maybe they want a target to hit.  Well, I gues...</td>\n",
       "    </tr>\n",
       "    <tr>\n",
       "      <th>3</th>\n",
       "      <td>2531329</td>\n",
       "      <td>2531329_7</td>\n",
       "      <td>3</td>\n",
       "      <td>Q0</td>\n",
       "      <td>Why do some men spit into the urinal before ur...</td>\n",
       "      <td>Where else would we spit?... Apart from sports...</td>\n",
       "    </tr>\n",
       "    <tr>\n",
       "      <th>4</th>\n",
       "      <td>2531329</td>\n",
       "      <td>2531329_6</td>\n",
       "      <td>3</td>\n",
       "      <td>Q0</td>\n",
       "      <td>Why do some men spit into the urinal before ur...</td>\n",
       "      <td>Because they have a cough or phlegm and hacked...</td>\n",
       "    </tr>\n",
       "  </tbody>\n",
       "</table>\n",
       "</div>"
      ],
      "text/plain": [
       "   query_id     doc_id  relevance iteration  \\\n",
       "0   2531329  2531329_0          4        U0   \n",
       "1   2531329  2531329_5          4        Q0   \n",
       "2   2531329  2531329_4          3        Q0   \n",
       "3   2531329  2531329_7          3        Q0   \n",
       "4   2531329  2531329_6          3        Q0   \n",
       "\n",
       "                                          query_text  \\\n",
       "0  Why do some men spit into the urinal before ur...   \n",
       "1  Why do some men spit into the urinal before ur...   \n",
       "2  Why do some men spit into the urinal before ur...   \n",
       "3  Why do some men spit into the urinal before ur...   \n",
       "4  Why do some men spit into the urinal before ur...   \n",
       "\n",
       "                                            doc_text  \n",
       "0  I do it all the time.  It is kind of a ritual ...  \n",
       "1  To clear out the mucus deep down in the throat...  \n",
       "2  maybe they want a target to hit.  Well, I gues...  \n",
       "3  Where else would we spit?... Apart from sports...  \n",
       "4  Because they have a cough or phlegm and hacked...  "
      ]
     },
     "execution_count": 9,
     "metadata": {},
     "output_type": "execute_result"
    }
   ],
   "source": [
    "merged_file_path = os.path.join(data_dir, \"antique_train_merged.csv\")\n",
    "\n",
    "train_df = pd.read_csv(merged_file_path)\n",
    "train_df.head()"
   ]
  },
  {
   "cell_type": "code",
   "execution_count": 10,
   "metadata": {},
   "outputs": [
    {
     "data": {
      "text/plain": [
       "'I do it all the time.  It is kind of a ritual for me, like you have when you are shooting free throws.  I guess it relaxes me and lets me get ready to take care of business.'"
      ]
     },
     "execution_count": 10,
     "metadata": {},
     "output_type": "execute_result"
    }
   ],
   "source": [
    "train_df['doc_text'][0]"
   ]
  },
  {
   "cell_type": "markdown",
   "metadata": {},
   "source": [
    "Encode data"
   ]
  },
  {
   "cell_type": "code",
   "execution_count": 13,
   "metadata": {},
   "outputs": [
    {
     "name": "stderr",
     "output_type": "stream",
     "text": [
      "Batches: 100%|██████████| 857/857 [00:07<00:00, 118.09it/s]\n",
      "Batches: 100%|██████████| 857/857 [00:12<00:00, 66.77it/s] \n"
     ]
    },
    {
     "name": "stdout",
     "output_type": "stream",
     "text": [
      "Train DataFrame with embeddings saved to c:\\Users\\karishma\\OneDrive\\Projects\\qCLEF\\data\\antique_train_with_embeddings.csv\n"
     ]
    },
    {
     "data": {
      "text/html": [
       "<div>\n",
       "<style scoped>\n",
       "    .dataframe tbody tr th:only-of-type {\n",
       "        vertical-align: middle;\n",
       "    }\n",
       "\n",
       "    .dataframe tbody tr th {\n",
       "        vertical-align: top;\n",
       "    }\n",
       "\n",
       "    .dataframe thead th {\n",
       "        text-align: right;\n",
       "    }\n",
       "</style>\n",
       "<table border=\"1\" class=\"dataframe\">\n",
       "  <thead>\n",
       "    <tr style=\"text-align: right;\">\n",
       "      <th></th>\n",
       "      <th>query_id</th>\n",
       "      <th>doc_id</th>\n",
       "      <th>relevance</th>\n",
       "      <th>iteration</th>\n",
       "      <th>query_text</th>\n",
       "      <th>doc_text</th>\n",
       "      <th>query_embedding</th>\n",
       "      <th>doc_embedding</th>\n",
       "    </tr>\n",
       "  </thead>\n",
       "  <tbody>\n",
       "    <tr>\n",
       "      <th>0</th>\n",
       "      <td>2531329</td>\n",
       "      <td>2531329_0</td>\n",
       "      <td>4</td>\n",
       "      <td>U0</td>\n",
       "      <td>Why do some men spit into the urinal before ur...</td>\n",
       "      <td>I do it all the time.  It is kind of a ritual ...</td>\n",
       "      <td>[0.06218868866562843, -0.015421810559928417, 0...</td>\n",
       "      <td>[0.0625365749001503, 0.04067419469356537, -0.0...</td>\n",
       "    </tr>\n",
       "    <tr>\n",
       "      <th>1</th>\n",
       "      <td>2531329</td>\n",
       "      <td>2531329_5</td>\n",
       "      <td>4</td>\n",
       "      <td>Q0</td>\n",
       "      <td>Why do some men spit into the urinal before ur...</td>\n",
       "      <td>To clear out the mucus deep down in the throat...</td>\n",
       "      <td>[0.06218868866562843, -0.015421810559928417, 0...</td>\n",
       "      <td>[0.08527150005102158, -0.03753829002380371, 0....</td>\n",
       "    </tr>\n",
       "    <tr>\n",
       "      <th>2</th>\n",
       "      <td>2531329</td>\n",
       "      <td>2531329_4</td>\n",
       "      <td>3</td>\n",
       "      <td>Q0</td>\n",
       "      <td>Why do some men spit into the urinal before ur...</td>\n",
       "      <td>maybe they want a target to hit.  Well, I gues...</td>\n",
       "      <td>[0.06218868866562843, -0.015421810559928417, 0...</td>\n",
       "      <td>[0.13832318782806396, -0.0030896335374563932, ...</td>\n",
       "    </tr>\n",
       "    <tr>\n",
       "      <th>3</th>\n",
       "      <td>2531329</td>\n",
       "      <td>2531329_7</td>\n",
       "      <td>3</td>\n",
       "      <td>Q0</td>\n",
       "      <td>Why do some men spit into the urinal before ur...</td>\n",
       "      <td>Where else would we spit?... Apart from sports...</td>\n",
       "      <td>[0.06218868866562843, -0.015421810559928417, 0...</td>\n",
       "      <td>[0.0586501806974411, 0.019921783357858658, 0.0...</td>\n",
       "    </tr>\n",
       "    <tr>\n",
       "      <th>4</th>\n",
       "      <td>2531329</td>\n",
       "      <td>2531329_6</td>\n",
       "      <td>3</td>\n",
       "      <td>Q0</td>\n",
       "      <td>Why do some men spit into the urinal before ur...</td>\n",
       "      <td>Because they have a cough or phlegm and hacked...</td>\n",
       "      <td>[0.06218866631388664, -0.015421760268509388, 0...</td>\n",
       "      <td>[0.08216521143913269, 0.040984902530908585, 0....</td>\n",
       "    </tr>\n",
       "  </tbody>\n",
       "</table>\n",
       "</div>"
      ],
      "text/plain": [
       "   query_id     doc_id  relevance iteration  \\\n",
       "0   2531329  2531329_0          4        U0   \n",
       "1   2531329  2531329_5          4        Q0   \n",
       "2   2531329  2531329_4          3        Q0   \n",
       "3   2531329  2531329_7          3        Q0   \n",
       "4   2531329  2531329_6          3        Q0   \n",
       "\n",
       "                                          query_text  \\\n",
       "0  Why do some men spit into the urinal before ur...   \n",
       "1  Why do some men spit into the urinal before ur...   \n",
       "2  Why do some men spit into the urinal before ur...   \n",
       "3  Why do some men spit into the urinal before ur...   \n",
       "4  Why do some men spit into the urinal before ur...   \n",
       "\n",
       "                                            doc_text  \\\n",
       "0  I do it all the time.  It is kind of a ritual ...   \n",
       "1  To clear out the mucus deep down in the throat...   \n",
       "2  maybe they want a target to hit.  Well, I gues...   \n",
       "3  Where else would we spit?... Apart from sports...   \n",
       "4  Because they have a cough or phlegm and hacked...   \n",
       "\n",
       "                                     query_embedding  \\\n",
       "0  [0.06218868866562843, -0.015421810559928417, 0...   \n",
       "1  [0.06218868866562843, -0.015421810559928417, 0...   \n",
       "2  [0.06218868866562843, -0.015421810559928417, 0...   \n",
       "3  [0.06218868866562843, -0.015421810559928417, 0...   \n",
       "4  [0.06218866631388664, -0.015421760268509388, 0...   \n",
       "\n",
       "                                       doc_embedding  \n",
       "0  [0.0625365749001503, 0.04067419469356537, -0.0...  \n",
       "1  [0.08527150005102158, -0.03753829002380371, 0....  \n",
       "2  [0.13832318782806396, -0.0030896335374563932, ...  \n",
       "3  [0.0586501806974411, 0.019921783357858658, 0.0...  \n",
       "4  [0.08216521143913269, 0.040984902530908585, 0....  "
      ]
     },
     "metadata": {},
     "output_type": "display_data"
    }
   ],
   "source": [
    "output_csv = os.path.join(data_dir, \"antique_train_with_embeddings.csv\")\n",
    "\n",
    "model = SentenceTransformer(\"sentence-transformers/all-MiniLM-L6-v2\")\n",
    "\n",
    "def encode_texts(texts):\n",
    "    return model.encode(texts, batch_size=32, convert_to_numpy=True, show_progress_bar=True)\n",
    "\n",
    "query_embeddings = encode_texts(train_df[\"query_text\"].tolist())\n",
    "doc_embeddings = encode_texts(train_df[\"doc_text\"].tolist())\n",
    "\n",
    "train_df[\"query_embedding\"] = query_embeddings.tolist()\n",
    "train_df[\"doc_embedding\"] = doc_embeddings.tolist()\n",
    "\n",
    "train_df.to_csv(output_csv, index=False, float_format=\"%.18f\")\n",
    "\n",
    "print(f\"Train DataFrame with embeddings saved to {output_csv}\")\n",
    "display(train_df.head())"
   ]
  }
 ],
 "metadata": {
  "kernelspec": {
   "display_name": ".venv",
   "language": "python",
   "name": "python3"
  },
  "language_info": {
   "codemirror_mode": {
    "name": "ipython",
    "version": 3
   },
   "file_extension": ".py",
   "mimetype": "text/x-python",
   "name": "python",
   "nbconvert_exporter": "python",
   "pygments_lexer": "ipython3",
   "version": "3.10.7"
  }
 },
 "nbformat": 4,
 "nbformat_minor": 2
}
