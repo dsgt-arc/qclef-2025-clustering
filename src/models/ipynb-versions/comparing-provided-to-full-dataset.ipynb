{
 "cells": [
  {
   "cell_type": "code",
   "execution_count": 48,
   "metadata": {},
   "outputs": [],
   "source": [
    "import pandas as pd\n",
    "import numpy as np\n",
    "import os"
   ]
  },
  {
   "cell_type": "markdown",
   "metadata": {},
   "source": [
    "Reverse engineering antique_train_queries"
   ]
  },
  {
   "cell_type": "code",
   "execution_count": 49,
   "metadata": {},
   "outputs": [
    {
     "name": "stdout",
     "output_type": "stream",
     "text": [
      "Total unique query_ids in full dataset: 200\n",
      "Total unique query_ids in lab dataset: 50\n",
      "Number of matching query_ids: 50\n"
     ]
    }
   ],
   "source": [
    "full_data_dir = os.path.abspath(os.path.join(os.getcwd(), \"..\", \"..\", \"..\", \"data\"))\n",
    "full_file_path = os.path.join(full_data_dir, \"antique_test_queries.csv\")\n",
    "lab_file_path = os.path.join(full_data_dir, \"antique_train_queries.csv\")\n",
    "\n",
    "full_dataset = pd.read_csv(full_file_path)\n",
    "lab_dataset = pd.read_csv(lab_file_path)\n",
    "\n",
    "full_query_ids = set(full_dataset[\"query_id\"].astype(str))\n",
    "lab_query_ids = set(lab_dataset[\"query_id\"].astype(str))\n",
    "\n",
    "matching_query_ids = full_query_ids.intersection(lab_query_ids)\n",
    "\n",
    "print(f\"Total unique query_ids in full dataset: {len(full_query_ids)}\")\n",
    "print(f\"Total unique query_ids in lab dataset: {len(lab_query_ids)}\")\n",
    "print(f\"Number of matching query_ids: {len(matching_query_ids)}\")"
   ]
  },
  {
   "cell_type": "code",
   "execution_count": 50,
   "metadata": {},
   "outputs": [
    {
     "data": {
      "text/html": [
       "<div>\n",
       "<style scoped>\n",
       "    .dataframe tbody tr th:only-of-type {\n",
       "        vertical-align: middle;\n",
       "    }\n",
       "\n",
       "    .dataframe tbody tr th {\n",
       "        vertical-align: top;\n",
       "    }\n",
       "\n",
       "    .dataframe thead th {\n",
       "        text-align: right;\n",
       "    }\n",
       "</style>\n",
       "<table border=\"1\" class=\"dataframe\">\n",
       "  <thead>\n",
       "    <tr style=\"text-align: right;\">\n",
       "      <th></th>\n",
       "      <th>query_id</th>\n",
       "      <th>text</th>\n",
       "    </tr>\n",
       "  </thead>\n",
       "  <tbody>\n",
       "    <tr>\n",
       "      <th>0</th>\n",
       "      <td>3990512</td>\n",
       "      <td>how can we get concentration onsomething?</td>\n",
       "    </tr>\n",
       "    <tr>\n",
       "      <th>1</th>\n",
       "      <td>714612</td>\n",
       "      <td>Why doesn't the water fall off  earth if it's ...</td>\n",
       "    </tr>\n",
       "    <tr>\n",
       "      <th>2</th>\n",
       "      <td>2528767</td>\n",
       "      <td>How do I determine the charge of the iron ion ...</td>\n",
       "    </tr>\n",
       "    <tr>\n",
       "      <th>3</th>\n",
       "      <td>821387</td>\n",
       "      <td>I have mice.How do I get rid of them humanely?</td>\n",
       "    </tr>\n",
       "    <tr>\n",
       "      <th>4</th>\n",
       "      <td>1880028</td>\n",
       "      <td>What does \"see Leaflet\" mean on Ept Pregnancy ...</td>\n",
       "    </tr>\n",
       "  </tbody>\n",
       "</table>\n",
       "</div>"
      ],
      "text/plain": [
       "   query_id                                               text\n",
       "0   3990512          how can we get concentration onsomething?\n",
       "1    714612  Why doesn't the water fall off  earth if it's ...\n",
       "2   2528767  How do I determine the charge of the iron ion ...\n",
       "3    821387     I have mice.How do I get rid of them humanely?\n",
       "4   1880028  What does \"see Leaflet\" mean on Ept Pregnancy ..."
      ]
     },
     "execution_count": 50,
     "metadata": {},
     "output_type": "execute_result"
    }
   ],
   "source": [
    "full_dataset.head()"
   ]
  },
  {
   "cell_type": "code",
   "execution_count": 51,
   "metadata": {},
   "outputs": [
    {
     "data": {
      "text/html": [
       "<div>\n",
       "<style scoped>\n",
       "    .dataframe tbody tr th:only-of-type {\n",
       "        vertical-align: middle;\n",
       "    }\n",
       "\n",
       "    .dataframe tbody tr th {\n",
       "        vertical-align: top;\n",
       "    }\n",
       "\n",
       "    .dataframe thead th {\n",
       "        text-align: right;\n",
       "    }\n",
       "</style>\n",
       "<table border=\"1\" class=\"dataframe\">\n",
       "  <thead>\n",
       "    <tr style=\"text-align: right;\">\n",
       "      <th></th>\n",
       "      <th>query_id</th>\n",
       "      <th>query_embeddings</th>\n",
       "      <th>doc_id</th>\n",
       "      <th>relevance</th>\n",
       "    </tr>\n",
       "  </thead>\n",
       "  <tbody>\n",
       "    <tr>\n",
       "      <th>0</th>\n",
       "      <td>1964316</td>\n",
       "      <td>[ 8.20141565e-03, 1.82990301e-02, 1.74273867e-...</td>\n",
       "      <td>1964316_5</td>\n",
       "      <td>4</td>\n",
       "    </tr>\n",
       "    <tr>\n",
       "      <th>1</th>\n",
       "      <td>1964316</td>\n",
       "      <td>[ 8.20141565e-03, 1.82990301e-02, 1.74273867e-...</td>\n",
       "      <td>1674088_11</td>\n",
       "      <td>1</td>\n",
       "    </tr>\n",
       "    <tr>\n",
       "      <th>2</th>\n",
       "      <td>1964316</td>\n",
       "      <td>[ 8.20141565e-03, 1.82990301e-02, 1.74273867e-...</td>\n",
       "      <td>1218838_13</td>\n",
       "      <td>2</td>\n",
       "    </tr>\n",
       "    <tr>\n",
       "      <th>3</th>\n",
       "      <td>1964316</td>\n",
       "      <td>[ 8.20141565e-03, 1.82990301e-02, 1.74273867e-...</td>\n",
       "      <td>1519022_15</td>\n",
       "      <td>2</td>\n",
       "    </tr>\n",
       "    <tr>\n",
       "      <th>4</th>\n",
       "      <td>1964316</td>\n",
       "      <td>[ 8.20141565e-03, 1.82990301e-02, 1.74273867e-...</td>\n",
       "      <td>3059341_5</td>\n",
       "      <td>2</td>\n",
       "    </tr>\n",
       "  </tbody>\n",
       "</table>\n",
       "</div>"
      ],
      "text/plain": [
       "   query_id                                   query_embeddings      doc_id  \\\n",
       "0   1964316  [ 8.20141565e-03, 1.82990301e-02, 1.74273867e-...   1964316_5   \n",
       "1   1964316  [ 8.20141565e-03, 1.82990301e-02, 1.74273867e-...  1674088_11   \n",
       "2   1964316  [ 8.20141565e-03, 1.82990301e-02, 1.74273867e-...  1218838_13   \n",
       "3   1964316  [ 8.20141565e-03, 1.82990301e-02, 1.74273867e-...  1519022_15   \n",
       "4   1964316  [ 8.20141565e-03, 1.82990301e-02, 1.74273867e-...   3059341_5   \n",
       "\n",
       "   relevance  \n",
       "0          4  \n",
       "1          1  \n",
       "2          2  \n",
       "3          2  \n",
       "4          2  "
      ]
     },
     "execution_count": 51,
     "metadata": {},
     "output_type": "execute_result"
    }
   ],
   "source": [
    "lab_dataset.head()"
   ]
  },
  {
   "cell_type": "code",
   "execution_count": 52,
   "metadata": {},
   "outputs": [
    {
     "data": {
      "text/plain": [
       "1651"
      ]
     },
     "execution_count": 52,
     "metadata": {},
     "output_type": "execute_result"
    }
   ],
   "source": [
    "len(lab_dataset)"
   ]
  },
  {
   "cell_type": "code",
   "execution_count": 53,
   "metadata": {},
   "outputs": [
    {
     "data": {
      "text/html": [
       "<div>\n",
       "<style scoped>\n",
       "    .dataframe tbody tr th:only-of-type {\n",
       "        vertical-align: middle;\n",
       "    }\n",
       "\n",
       "    .dataframe tbody tr th {\n",
       "        vertical-align: top;\n",
       "    }\n",
       "\n",
       "    .dataframe thead th {\n",
       "        text-align: right;\n",
       "    }\n",
       "</style>\n",
       "<table border=\"1\" class=\"dataframe\">\n",
       "  <thead>\n",
       "    <tr style=\"text-align: right;\">\n",
       "      <th></th>\n",
       "      <th>query_id</th>\n",
       "      <th>text</th>\n",
       "      <th>query_embeddings</th>\n",
       "      <th>doc_id</th>\n",
       "      <th>relevance</th>\n",
       "    </tr>\n",
       "  </thead>\n",
       "  <tbody>\n",
       "    <tr>\n",
       "      <th>0</th>\n",
       "      <td>1880028</td>\n",
       "      <td>What does \"see Leaflet\" mean on Ept Pregnancy ...</td>\n",
       "      <td>[-2.14085039e-02,-1.47240222e-01,-4.38942723e-...</td>\n",
       "      <td>1880028_3</td>\n",
       "      <td>4</td>\n",
       "    </tr>\n",
       "    <tr>\n",
       "      <th>1</th>\n",
       "      <td>1880028</td>\n",
       "      <td>What does \"see Leaflet\" mean on Ept Pregnancy ...</td>\n",
       "      <td>[-2.14085039e-02,-1.47240222e-01,-4.38942723e-...</td>\n",
       "      <td>1880028_2</td>\n",
       "      <td>2</td>\n",
       "    </tr>\n",
       "    <tr>\n",
       "      <th>2</th>\n",
       "      <td>1880028</td>\n",
       "      <td>What does \"see Leaflet\" mean on Ept Pregnancy ...</td>\n",
       "      <td>[-2.14085039e-02,-1.47240222e-01,-4.38942723e-...</td>\n",
       "      <td>1880028_1</td>\n",
       "      <td>1</td>\n",
       "    </tr>\n",
       "    <tr>\n",
       "      <th>3</th>\n",
       "      <td>1880028</td>\n",
       "      <td>What does \"see Leaflet\" mean on Ept Pregnancy ...</td>\n",
       "      <td>[-2.14085039e-02,-1.47240222e-01,-4.38942723e-...</td>\n",
       "      <td>1880028_0</td>\n",
       "      <td>4</td>\n",
       "    </tr>\n",
       "    <tr>\n",
       "      <th>4</th>\n",
       "      <td>1880028</td>\n",
       "      <td>What does \"see Leaflet\" mean on Ept Pregnancy ...</td>\n",
       "      <td>[-2.14085039e-02,-1.47240222e-01,-4.38942723e-...</td>\n",
       "      <td>845140_9</td>\n",
       "      <td>2</td>\n",
       "    </tr>\n",
       "  </tbody>\n",
       "</table>\n",
       "</div>"
      ],
      "text/plain": [
       "   query_id                                               text  \\\n",
       "0   1880028  What does \"see Leaflet\" mean on Ept Pregnancy ...   \n",
       "1   1880028  What does \"see Leaflet\" mean on Ept Pregnancy ...   \n",
       "2   1880028  What does \"see Leaflet\" mean on Ept Pregnancy ...   \n",
       "3   1880028  What does \"see Leaflet\" mean on Ept Pregnancy ...   \n",
       "4   1880028  What does \"see Leaflet\" mean on Ept Pregnancy ...   \n",
       "\n",
       "                                    query_embeddings     doc_id  relevance  \n",
       "0  [-2.14085039e-02,-1.47240222e-01,-4.38942723e-...  1880028_3          4  \n",
       "1  [-2.14085039e-02,-1.47240222e-01,-4.38942723e-...  1880028_2          2  \n",
       "2  [-2.14085039e-02,-1.47240222e-01,-4.38942723e-...  1880028_1          1  \n",
       "3  [-2.14085039e-02,-1.47240222e-01,-4.38942723e-...  1880028_0          4  \n",
       "4  [-2.14085039e-02,-1.47240222e-01,-4.38942723e-...   845140_9          2  "
      ]
     },
     "execution_count": 53,
     "metadata": {},
     "output_type": "execute_result"
    }
   ],
   "source": [
    "intersection_dataset = full_dataset.merge(lab_dataset, on=\"query_id\")\n",
    "\n",
    "intersection_dataset.head()"
   ]
  },
  {
   "cell_type": "code",
   "execution_count": 54,
   "metadata": {},
   "outputs": [
    {
     "data": {
      "text/plain": [
       "1651"
      ]
     },
     "execution_count": 54,
     "metadata": {},
     "output_type": "execute_result"
    }
   ],
   "source": [
    "len(intersection_dataset)"
   ]
  },
  {
   "cell_type": "code",
   "execution_count": 55,
   "metadata": {},
   "outputs": [
    {
     "name": "stdout",
     "output_type": "stream",
     "text": [
      "Total unique doc_ids in test dataset: 403666\n",
      "Total unique doc_ids in lab dataset: 1649\n",
      "Number of matching doc_ids: 1649\n"
     ]
    }
   ],
   "source": [
    "test_docs_path = os.path.join(full_data_dir, \"antique_test_docs.csv\")\n",
    "\n",
    "test_docs_dataset = pd.read_csv(test_docs_path)\n",
    "\n",
    "test_doc_ids = set(test_docs_dataset[\"doc_id\"].astype(str))\n",
    "lab_doc_ids = set(lab_dataset[\"doc_id\"].astype(str))\n",
    "\n",
    "matching_doc_ids = test_doc_ids.intersection(lab_doc_ids)\n",
    "\n",
    "print(f\"Total unique doc_ids in test dataset: {len(test_doc_ids)}\")\n",
    "print(f\"Total unique doc_ids in lab dataset: {len(lab_doc_ids)}\")\n",
    "print(f\"Number of matching doc_ids: {len(matching_doc_ids)}\")"
   ]
  },
  {
   "cell_type": "code",
   "execution_count": 57,
   "metadata": {},
   "outputs": [
    {
     "name": "stdout",
     "output_type": "stream",
     "text": [
      "Duplicate doc_id(s): ['3239329_4', '2785579_2']\n"
     ]
    },
    {
     "data": {
      "text/html": [
       "<div>\n",
       "<style scoped>\n",
       "    .dataframe tbody tr th:only-of-type {\n",
       "        vertical-align: middle;\n",
       "    }\n",
       "\n",
       "    .dataframe tbody tr th {\n",
       "        vertical-align: top;\n",
       "    }\n",
       "\n",
       "    .dataframe thead th {\n",
       "        text-align: right;\n",
       "    }\n",
       "</style>\n",
       "<table border=\"1\" class=\"dataframe\">\n",
       "  <thead>\n",
       "    <tr style=\"text-align: right;\">\n",
       "      <th></th>\n",
       "      <th>query_id</th>\n",
       "      <th>query_embeddings</th>\n",
       "      <th>doc_id</th>\n",
       "      <th>relevance</th>\n",
       "    </tr>\n",
       "  </thead>\n",
       "  <tbody>\n",
       "    <tr>\n",
       "      <th>373</th>\n",
       "      <td>2785579</td>\n",
       "      <td>[-1.02301352e-02, 1.10469041e-02,-2.07281318e-...</td>\n",
       "      <td>3239329_4</td>\n",
       "      <td>3</td>\n",
       "    </tr>\n",
       "    <tr>\n",
       "      <th>378</th>\n",
       "      <td>2785579</td>\n",
       "      <td>[-1.02301352e-02, 1.10469041e-02,-2.07281318e-...</td>\n",
       "      <td>2785579_2</td>\n",
       "      <td>4</td>\n",
       "    </tr>\n",
       "    <tr>\n",
       "      <th>607</th>\n",
       "      <td>4185501</td>\n",
       "      <td>[ 3.86847258e-02,-4.01194394e-02,-1.45205026e-...</td>\n",
       "      <td>2785579_2</td>\n",
       "      <td>2</td>\n",
       "    </tr>\n",
       "    <tr>\n",
       "      <th>972</th>\n",
       "      <td>3239329</td>\n",
       "      <td>[ 5.15195075e-03,-4.52668220e-02, 3.51459440e-...</td>\n",
       "      <td>3239329_4</td>\n",
       "      <td>2</td>\n",
       "    </tr>\n",
       "  </tbody>\n",
       "</table>\n",
       "</div>"
      ],
      "text/plain": [
       "     query_id                                   query_embeddings     doc_id  \\\n",
       "373   2785579  [-1.02301352e-02, 1.10469041e-02,-2.07281318e-...  3239329_4   \n",
       "378   2785579  [-1.02301352e-02, 1.10469041e-02,-2.07281318e-...  2785579_2   \n",
       "607   4185501  [ 3.86847258e-02,-4.01194394e-02,-1.45205026e-...  2785579_2   \n",
       "972   3239329  [ 5.15195075e-03,-4.52668220e-02, 3.51459440e-...  3239329_4   \n",
       "\n",
       "     relevance  \n",
       "373          3  \n",
       "378          4  \n",
       "607          2  \n",
       "972          2  "
      ]
     },
     "execution_count": 57,
     "metadata": {},
     "output_type": "execute_result"
    }
   ],
   "source": [
    "doc_id_counts = lab_dataset[\"doc_id\"].value_counts()\n",
    "\n",
    "duplicate_doc_ids = doc_id_counts[doc_id_counts > 1].index.tolist()\n",
    "\n",
    "print(f\"Duplicate doc_id(s): {duplicate_doc_ids}\")\n",
    "\n",
    "duplicate_entries = lab_dataset[lab_dataset[\"doc_id\"].isin(duplicate_doc_ids)]\n",
    "duplicate_entries.head()"
   ]
  },
  {
   "cell_type": "code",
   "execution_count": 58,
   "metadata": {},
   "outputs": [
    {
     "data": {
      "text/html": [
       "<div>\n",
       "<style scoped>\n",
       "    .dataframe tbody tr th:only-of-type {\n",
       "        vertical-align: middle;\n",
       "    }\n",
       "\n",
       "    .dataframe tbody tr th {\n",
       "        vertical-align: top;\n",
       "    }\n",
       "\n",
       "    .dataframe thead th {\n",
       "        text-align: right;\n",
       "    }\n",
       "</style>\n",
       "<table border=\"1\" class=\"dataframe\">\n",
       "  <thead>\n",
       "    <tr style=\"text-align: right;\">\n",
       "      <th></th>\n",
       "      <th>doc_id</th>\n",
       "      <th>text</th>\n",
       "    </tr>\n",
       "  </thead>\n",
       "  <tbody>\n",
       "    <tr>\n",
       "      <th>0</th>\n",
       "      <td>2020338_0</td>\n",
       "      <td>A small group of politicians believed strongly...</td>\n",
       "    </tr>\n",
       "    <tr>\n",
       "      <th>1</th>\n",
       "      <td>2020338_1</td>\n",
       "      <td>Because there is a lot of oil in Iraq.</td>\n",
       "    </tr>\n",
       "    <tr>\n",
       "      <th>2</th>\n",
       "      <td>2020338_2</td>\n",
       "      <td>It is tempting to say that the US invaded Iraq...</td>\n",
       "    </tr>\n",
       "    <tr>\n",
       "      <th>3</th>\n",
       "      <td>2020338_3</td>\n",
       "      <td>I think Yuval is pretty spot on. It's a provin...</td>\n",
       "    </tr>\n",
       "    <tr>\n",
       "      <th>4</th>\n",
       "      <td>2874684_0</td>\n",
       "      <td>Call an area apiarist.  They should be able to...</td>\n",
       "    </tr>\n",
       "  </tbody>\n",
       "</table>\n",
       "</div>"
      ],
      "text/plain": [
       "      doc_id                                               text\n",
       "0  2020338_0  A small group of politicians believed strongly...\n",
       "1  2020338_1             Because there is a lot of oil in Iraq.\n",
       "2  2020338_2  It is tempting to say that the US invaded Iraq...\n",
       "3  2020338_3  I think Yuval is pretty spot on. It's a provin...\n",
       "4  2874684_0  Call an area apiarist.  They should be able to..."
      ]
     },
     "execution_count": 58,
     "metadata": {},
     "output_type": "execute_result"
    }
   ],
   "source": [
    "test_docs_dataset.head()"
   ]
  },
  {
   "cell_type": "code",
   "execution_count": 39,
   "metadata": {},
   "outputs": [
    {
     "data": {
      "text/html": [
       "<div>\n",
       "<style scoped>\n",
       "    .dataframe tbody tr th:only-of-type {\n",
       "        vertical-align: middle;\n",
       "    }\n",
       "\n",
       "    .dataframe tbody tr th {\n",
       "        vertical-align: top;\n",
       "    }\n",
       "\n",
       "    .dataframe thead th {\n",
       "        text-align: right;\n",
       "    }\n",
       "</style>\n",
       "<table border=\"1\" class=\"dataframe\">\n",
       "  <thead>\n",
       "    <tr style=\"text-align: right;\">\n",
       "      <th></th>\n",
       "      <th>query_id</th>\n",
       "      <th>doc_id</th>\n",
       "      <th>query_embeddings</th>\n",
       "      <th>query_text</th>\n",
       "      <th>doc_text</th>\n",
       "      <th>relevance</th>\n",
       "    </tr>\n",
       "  </thead>\n",
       "  <tbody>\n",
       "    <tr>\n",
       "      <th>0</th>\n",
       "      <td>1880028</td>\n",
       "      <td>1880028_3</td>\n",
       "      <td>[-2.14085039e-02,-1.47240222e-01,-4.38942723e-...</td>\n",
       "      <td>What does \"see Leaflet\" mean on Ept Pregnancy ...</td>\n",
       "      <td>It means the leaflet that should be enclosed i...</td>\n",
       "      <td>4</td>\n",
       "    </tr>\n",
       "    <tr>\n",
       "      <th>1</th>\n",
       "      <td>1880028</td>\n",
       "      <td>1880028_2</td>\n",
       "      <td>[-2.14085039e-02,-1.47240222e-01,-4.38942723e-...</td>\n",
       "      <td>What does \"see Leaflet\" mean on Ept Pregnancy ...</td>\n",
       "      <td>you didn't get a leaf in yours?</td>\n",
       "      <td>2</td>\n",
       "    </tr>\n",
       "    <tr>\n",
       "      <th>2</th>\n",
       "      <td>1880028</td>\n",
       "      <td>1880028_1</td>\n",
       "      <td>[-2.14085039e-02,-1.47240222e-01,-4.38942723e-...</td>\n",
       "      <td>What does \"see Leaflet\" mean on Ept Pregnancy ...</td>\n",
       "      <td>You stuck it in the wrong hole.</td>\n",
       "      <td>1</td>\n",
       "    </tr>\n",
       "    <tr>\n",
       "      <th>3</th>\n",
       "      <td>1880028</td>\n",
       "      <td>1880028_0</td>\n",
       "      <td>[-2.14085039e-02,-1.47240222e-01,-4.38942723e-...</td>\n",
       "      <td>What does \"see Leaflet\" mean on Ept Pregnancy ...</td>\n",
       "      <td>Leaflet is the info inside the package with th...</td>\n",
       "      <td>4</td>\n",
       "    </tr>\n",
       "    <tr>\n",
       "      <th>4</th>\n",
       "      <td>1880028</td>\n",
       "      <td>845140_9</td>\n",
       "      <td>[-2.14085039e-02,-1.47240222e-01,-4.38942723e-...</td>\n",
       "      <td>What does \"see Leaflet\" mean on Ept Pregnancy ...</td>\n",
       "      <td>Nothing is 100% effective in preventing pregna...</td>\n",
       "      <td>2</td>\n",
       "    </tr>\n",
       "  </tbody>\n",
       "</table>\n",
       "</div>"
      ],
      "text/plain": [
       "   query_id     doc_id                                   query_embeddings  \\\n",
       "0   1880028  1880028_3  [-2.14085039e-02,-1.47240222e-01,-4.38942723e-...   \n",
       "1   1880028  1880028_2  [-2.14085039e-02,-1.47240222e-01,-4.38942723e-...   \n",
       "2   1880028  1880028_1  [-2.14085039e-02,-1.47240222e-01,-4.38942723e-...   \n",
       "3   1880028  1880028_0  [-2.14085039e-02,-1.47240222e-01,-4.38942723e-...   \n",
       "4   1880028   845140_9  [-2.14085039e-02,-1.47240222e-01,-4.38942723e-...   \n",
       "\n",
       "                                          query_text  \\\n",
       "0  What does \"see Leaflet\" mean on Ept Pregnancy ...   \n",
       "1  What does \"see Leaflet\" mean on Ept Pregnancy ...   \n",
       "2  What does \"see Leaflet\" mean on Ept Pregnancy ...   \n",
       "3  What does \"see Leaflet\" mean on Ept Pregnancy ...   \n",
       "4  What does \"see Leaflet\" mean on Ept Pregnancy ...   \n",
       "\n",
       "                                            doc_text  relevance  \n",
       "0  It means the leaflet that should be enclosed i...          4  \n",
       "1                    you didn't get a leaf in yours?          2  \n",
       "2                    You stuck it in the wrong hole.          1  \n",
       "3  Leaflet is the info inside the package with th...          4  \n",
       "4  Nothing is 100% effective in preventing pregna...          2  "
      ]
     },
     "execution_count": 39,
     "metadata": {},
     "output_type": "execute_result"
    }
   ],
   "source": [
    "query_df = intersection_dataset.merge(test_docs_dataset, on=\"doc_id\", suffixes=(\"_query\", \"_doc\"))\n",
    "\n",
    "query_df = query_df[[\"query_id\", \"doc_id\", \"query_embeddings\", \"text_query\", \"text_doc\", \"relevance\"]]\n",
    "\n",
    "query_df.rename(columns={\"text_query\": \"query_text\", \"text_doc\": \"doc_text\"}, inplace=True)\n",
    "\n",
    "query_df.head()"
   ]
  },
  {
   "cell_type": "code",
   "execution_count": 40,
   "metadata": {},
   "outputs": [
    {
     "data": {
      "text/plain": [
       "1651"
      ]
     },
     "execution_count": 40,
     "metadata": {},
     "output_type": "execute_result"
    }
   ],
   "source": [
    "len(query_df)"
   ]
  },
  {
   "cell_type": "code",
   "execution_count": 59,
   "metadata": {},
   "outputs": [
    {
     "name": "stdout",
     "output_type": "stream",
     "text": [
      "Duplicate doc_id(s) in query_df: ['2785579_2', '3239329_4']\n"
     ]
    },
    {
     "data": {
      "text/html": [
       "<div>\n",
       "<style scoped>\n",
       "    .dataframe tbody tr th:only-of-type {\n",
       "        vertical-align: middle;\n",
       "    }\n",
       "\n",
       "    .dataframe tbody tr th {\n",
       "        vertical-align: top;\n",
       "    }\n",
       "\n",
       "    .dataframe thead th {\n",
       "        text-align: right;\n",
       "    }\n",
       "</style>\n",
       "<table border=\"1\" class=\"dataframe\">\n",
       "  <thead>\n",
       "    <tr style=\"text-align: right;\">\n",
       "      <th></th>\n",
       "      <th>query_id</th>\n",
       "      <th>doc_id</th>\n",
       "      <th>query_embeddings</th>\n",
       "      <th>query_text</th>\n",
       "      <th>doc_text</th>\n",
       "      <th>relevance</th>\n",
       "    </tr>\n",
       "  </thead>\n",
       "  <tbody>\n",
       "    <tr>\n",
       "      <th>522</th>\n",
       "      <td>4185501</td>\n",
       "      <td>2785579_2</td>\n",
       "      <td>[ 3.86847258e-02,-4.01194394e-02,-1.45205026e-...</td>\n",
       "      <td>why does the sun shine?</td>\n",
       "      <td>I would be sun shine, to make flowers grow, an...</td>\n",
       "      <td>2</td>\n",
       "    </tr>\n",
       "    <tr>\n",
       "      <th>759</th>\n",
       "      <td>3239329</td>\n",
       "      <td>3239329_4</td>\n",
       "      <td>[ 5.15195075e-03,-4.52668220e-02, 3.51459440e-...</td>\n",
       "      <td>Why do we wee a lot in the cold weather especi...</td>\n",
       "      <td>well i think the reason why we have colder wea...</td>\n",
       "      <td>2</td>\n",
       "    </tr>\n",
       "    <tr>\n",
       "      <th>1372</th>\n",
       "      <td>2785579</td>\n",
       "      <td>3239329_4</td>\n",
       "      <td>[-1.02301352e-02, 1.10469041e-02,-2.07281318e-...</td>\n",
       "      <td>If you could be an element of weather, which w...</td>\n",
       "      <td>well i think the reason why we have colder wea...</td>\n",
       "      <td>3</td>\n",
       "    </tr>\n",
       "    <tr>\n",
       "      <th>1377</th>\n",
       "      <td>2785579</td>\n",
       "      <td>2785579_2</td>\n",
       "      <td>[-1.02301352e-02, 1.10469041e-02,-2.07281318e-...</td>\n",
       "      <td>If you could be an element of weather, which w...</td>\n",
       "      <td>I would be sun shine, to make flowers grow, an...</td>\n",
       "      <td>4</td>\n",
       "    </tr>\n",
       "  </tbody>\n",
       "</table>\n",
       "</div>"
      ],
      "text/plain": [
       "      query_id     doc_id                                   query_embeddings  \\\n",
       "522    4185501  2785579_2  [ 3.86847258e-02,-4.01194394e-02,-1.45205026e-...   \n",
       "759    3239329  3239329_4  [ 5.15195075e-03,-4.52668220e-02, 3.51459440e-...   \n",
       "1372   2785579  3239329_4  [-1.02301352e-02, 1.10469041e-02,-2.07281318e-...   \n",
       "1377   2785579  2785579_2  [-1.02301352e-02, 1.10469041e-02,-2.07281318e-...   \n",
       "\n",
       "                                             query_text  \\\n",
       "522                             why does the sun shine?   \n",
       "759   Why do we wee a lot in the cold weather especi...   \n",
       "1372  If you could be an element of weather, which w...   \n",
       "1377  If you could be an element of weather, which w...   \n",
       "\n",
       "                                               doc_text  relevance  \n",
       "522   I would be sun shine, to make flowers grow, an...          2  \n",
       "759   well i think the reason why we have colder wea...          2  \n",
       "1372  well i think the reason why we have colder wea...          3  \n",
       "1377  I would be sun shine, to make flowers grow, an...          4  "
      ]
     },
     "execution_count": 59,
     "metadata": {},
     "output_type": "execute_result"
    }
   ],
   "source": [
    "doc_id_counts_query = query_df[\"doc_id\"].value_counts()\n",
    "\n",
    "duplicate_doc_ids_query = doc_id_counts_query[doc_id_counts_query > 1].index.tolist()\n",
    "\n",
    "print(f\"Duplicate doc_id(s) in query_df: {duplicate_doc_ids_query}\")\n",
    "\n",
    "duplicate_entries_query = query_df[query_df[\"doc_id\"].isin(duplicate_doc_ids_query)]\n",
    "\n",
    "duplicate_entries_query.head()"
   ]
  },
  {
   "cell_type": "markdown",
   "metadata": {},
   "source": [
    "Reverse engineering antique_doc_embeddings"
   ]
  },
  {
   "cell_type": "code",
   "execution_count": 42,
   "metadata": {},
   "outputs": [
    {
     "name": "stdout",
     "output_type": "stream",
     "text": [
      "Total unique doc_ids in full dataset: 403666\n",
      "Total unique doc_ids in lab dataset: 6486\n",
      "Number of matching doc_ids: 6486\n"
     ]
    }
   ],
   "source": [
    "full_data_dir = os.path.abspath(os.path.join(os.getcwd(), \"..\", \"..\", \"..\", \"data\"))\n",
    "full_file_path = os.path.join(full_data_dir, \"antique_test_docs.csv\")\n",
    "lab_file_path = os.path.join(full_data_dir, \"antique_doc_embeddings.csv\")\n",
    "\n",
    "full_dataset = pd.read_csv(full_file_path)\n",
    "lab_dataset = pd.read_csv(lab_file_path)\n",
    "\n",
    "full_doc_ids = set(full_dataset[\"doc_id\"].astype(str))\n",
    "lab_doc_ids = set(lab_dataset[\"doc_id\"].astype(str))\n",
    "\n",
    "matching_doc_ids = full_doc_ids.intersection(lab_doc_ids)\n",
    "\n",
    "print(f\"Total unique doc_ids in full dataset: {len(full_doc_ids)}\")\n",
    "print(f\"Total unique doc_ids in lab dataset: {len(lab_doc_ids)}\")\n",
    "print(f\"Number of matching doc_ids: {len(matching_doc_ids)}\")"
   ]
  },
  {
   "cell_type": "code",
   "execution_count": 44,
   "metadata": {},
   "outputs": [
    {
     "data": {
      "text/plain": [
       "6486"
      ]
     },
     "execution_count": 44,
     "metadata": {},
     "output_type": "execute_result"
    }
   ],
   "source": [
    "len(lab_dataset)"
   ]
  },
  {
   "cell_type": "code",
   "execution_count": 43,
   "metadata": {},
   "outputs": [
    {
     "data": {
      "text/html": [
       "<div>\n",
       "<style scoped>\n",
       "    .dataframe tbody tr th:only-of-type {\n",
       "        vertical-align: middle;\n",
       "    }\n",
       "\n",
       "    .dataframe tbody tr th {\n",
       "        vertical-align: top;\n",
       "    }\n",
       "\n",
       "    .dataframe thead th {\n",
       "        text-align: right;\n",
       "    }\n",
       "</style>\n",
       "<table border=\"1\" class=\"dataframe\">\n",
       "  <thead>\n",
       "    <tr style=\"text-align: right;\">\n",
       "      <th></th>\n",
       "      <th>doc_id</th>\n",
       "      <th>text</th>\n",
       "      <th>doc_embeddings</th>\n",
       "    </tr>\n",
       "  </thead>\n",
       "  <tbody>\n",
       "    <tr>\n",
       "      <th>0</th>\n",
       "      <td>1166941_1</td>\n",
       "      <td>Some people believe that if there is a sick pe...</td>\n",
       "      <td>[-2.13019364e-02,-7.64960945e-02, 1.42080365e-...</td>\n",
       "    </tr>\n",
       "    <tr>\n",
       "      <th>1</th>\n",
       "      <td>563604_1</td>\n",
       "      <td>See a dentist every 6 months</td>\n",
       "      <td>[ 4.08016555e-02, 1.52095212e-02, 1.16801914e-...</td>\n",
       "    </tr>\n",
       "    <tr>\n",
       "      <th>2</th>\n",
       "      <td>3593337_1</td>\n",
       "      <td>Get on your parents insurance policy.</td>\n",
       "      <td>[-3.83477509e-02, 6.78179637e-02,-1.89724788e-...</td>\n",
       "    </tr>\n",
       "    <tr>\n",
       "      <th>3</th>\n",
       "      <td>1814059_0</td>\n",
       "      <td>if u have young kids u want to take them to Kn...</td>\n",
       "      <td>[-3.37657854e-02, 2.19965018e-02,-4.47764695e-...</td>\n",
       "    </tr>\n",
       "    <tr>\n",
       "      <th>4</th>\n",
       "      <td>2855289_1</td>\n",
       "      <td>The purpose of laboratory testing of seed germ...</td>\n",
       "      <td>[-5.14386334e-02,-7.02764839e-02, 4.13872185e-...</td>\n",
       "    </tr>\n",
       "  </tbody>\n",
       "</table>\n",
       "</div>"
      ],
      "text/plain": [
       "      doc_id                                               text  \\\n",
       "0  1166941_1  Some people believe that if there is a sick pe...   \n",
       "1   563604_1                       See a dentist every 6 months   \n",
       "2  3593337_1              Get on your parents insurance policy.   \n",
       "3  1814059_0  if u have young kids u want to take them to Kn...   \n",
       "4  2855289_1  The purpose of laboratory testing of seed germ...   \n",
       "\n",
       "                                      doc_embeddings  \n",
       "0  [-2.13019364e-02,-7.64960945e-02, 1.42080365e-...  \n",
       "1  [ 4.08016555e-02, 1.52095212e-02, 1.16801914e-...  \n",
       "2  [-3.83477509e-02, 6.78179637e-02,-1.89724788e-...  \n",
       "3  [-3.37657854e-02, 2.19965018e-02,-4.47764695e-...  \n",
       "4  [-5.14386334e-02,-7.02764839e-02, 4.13872185e-...  "
      ]
     },
     "execution_count": 43,
     "metadata": {},
     "output_type": "execute_result"
    }
   ],
   "source": [
    "document_df = full_dataset.merge(lab_dataset, on=\"doc_id\")\n",
    "\n",
    "document_df.head()"
   ]
  },
  {
   "cell_type": "code",
   "execution_count": 45,
   "metadata": {},
   "outputs": [
    {
     "data": {
      "text/plain": [
       "6486"
      ]
     },
     "execution_count": 45,
     "metadata": {},
     "output_type": "execute_result"
    }
   ],
   "source": [
    "len(document_df)"
   ]
  },
  {
   "cell_type": "code",
   "execution_count": null,
   "metadata": {},
   "outputs": [],
   "source": []
  }
 ],
 "metadata": {
  "kernelspec": {
   "display_name": ".venv",
   "language": "python",
   "name": "python3"
  },
  "language_info": {
   "codemirror_mode": {
    "name": "ipython",
    "version": 3
   },
   "file_extension": ".py",
   "mimetype": "text/x-python",
   "name": "python",
   "nbconvert_exporter": "python",
   "pygments_lexer": "ipython3",
   "version": "3.10.7"
  }
 },
 "nbformat": 4,
 "nbformat_minor": 2
}
