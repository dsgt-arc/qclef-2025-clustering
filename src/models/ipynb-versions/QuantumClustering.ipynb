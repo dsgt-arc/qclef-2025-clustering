{
 "cells": [
  {
   "cell_type": "code",
   "execution_count": 3,
   "metadata": {},
   "outputs": [],
   "source": [
    "import os\n",
    "import numpy as np\n",
    "import dimod"
   ]
  },
  {
   "cell_type": "code",
   "execution_count": 4,
   "metadata": {},
   "outputs": [],
   "source": [
    "class QuantumClustering:\n",
    "    def __init__(self, n_clusters):\n",
    "        self.n_clusters = n_clusters\n",
    "    \n",
    "    def build_qubo_matrix(self, embeddings, medoid_indices, qubo_matrix_path):\n",
    "        \"\"\"Constructs and saves the QUBO matrix for k-medoids clustering using cosine similarity.\"\"\"\n",
    "        norms = np.linalg.norm(embeddings, axis=1, keepdims=True)\n",
    "        cosine_matrix = (embeddings @ embeddings.T) / (norms @ norms.T)\n",
    "        np.fill_diagonal(cosine_matrix, 0)\n",
    "\n",
    "        mapped_indices = np.arange(len(medoid_indices))\n",
    "\n",
    "        for idx in mapped_indices:\n",
    "            cosine_matrix[idx, idx] += 2  \n",
    "\n",
    "        np.save(qubo_matrix_path, cosine_matrix)\n",
    "        print(f\"QUBO matrix saved at: {qubo_matrix_path}\")\n",
    "    \n",
    "    def solve_qubo(self, qubo_matrix_path):\n",
    "        \"\"\"Loads and solves the QUBO problem using a Simulated Annealing solver.\"\"\"\n",
    "        qubo_matrix = np.load(qubo_matrix_path)\n",
    "        sampler = dimod.SimulatedAnnealingSampler()\n",
    "        bqm = dimod.BinaryQuadraticModel.from_qubo(qubo_matrix)\n",
    "        response = sampler.sample(bqm, num_reads=100)\n",
    "        \n",
    "        best_sample = response.first.sample\n",
    "        assignments = sorted(best_sample.keys(), key=lambda x: best_sample[x], reverse=True)[:self.n_clusters]\n",
    "        return assignments\n",
    "    \n",
    "    def save_results(self, cluster_assignments, save_path):\n",
    "        \"\"\"Saves optimized cluster assignments.\"\"\"\n",
    "        np.save(save_path, cluster_assignments)\n",
    "        print(f\"Final quantum cluster assignments saved at: {save_path}\")"
   ]
  },
  {
   "cell_type": "code",
   "execution_count": 7,
   "metadata": {},
   "outputs": [],
   "source": [
    "script_dir = os.getcwd()\n",
    "data_dir = os.path.abspath(os.path.join(script_dir, \"..\", \"..\", \"..\", \"data\", \"test_data\"))\n",
    "os.makedirs(data_dir, exist_ok=True)"
   ]
  },
  {
   "cell_type": "code",
   "execution_count": 8,
   "metadata": {},
   "outputs": [],
   "source": [
    "np.random.seed(42)\n",
    "doc_embeddings = np.random.rand(10, 5)\n",
    "medoid_indices = np.array([0, 3, 7])"
   ]
  },
  {
   "cell_type": "code",
   "execution_count": 9,
   "metadata": {},
   "outputs": [
    {
     "name": "stdout",
     "output_type": "stream",
     "text": [
      "QUBO matrix saved at: c:\\Users\\karishma\\OneDrive\\Projects\\qCLEF\\data\\test_data\\test_qubo_matrix.npy\n"
     ]
    }
   ],
   "source": [
    "qubo_matrix_path = os.path.join(data_dir, \"test_qubo_matrix.npy\")\n",
    "quantum_clustering = QuantumClustering(n_clusters=len(medoid_indices))\n",
    "quantum_clustering.build_qubo_matrix(doc_embeddings, medoid_indices, qubo_matrix_path)"
   ]
  },
  {
   "cell_type": "code",
   "execution_count": 10,
   "metadata": {},
   "outputs": [
    {
     "name": "stdout",
     "output_type": "stream",
     "text": [
      "Final quantum cluster assignments saved at: c:\\Users\\karishma\\OneDrive\\Projects\\qCLEF\\data\\test_data\\test_quantum_cluster_labels.npy\n"
     ]
    }
   ],
   "source": [
    "clustered_output_path = os.path.join(data_dir, \"test_quantum_cluster_labels.npy\")\n",
    "cluster_labels = quantum_clustering.solve_qubo(qubo_matrix_path)\n",
    "quantum_clustering.save_results(cluster_labels, clustered_output_path)"
   ]
  },
  {
   "cell_type": "code",
   "execution_count": 11,
   "metadata": {},
   "outputs": [
    {
     "name": "stdout",
     "output_type": "stream",
     "text": [
      "Test execution completed.\n"
     ]
    }
   ],
   "source": [
    "print(\"Test execution completed.\")"
   ]
  },
  {
   "cell_type": "code",
   "execution_count": 12,
   "metadata": {},
   "outputs": [
    {
     "name": "stdout",
     "output_type": "stream",
     "text": [
      "Files in test_data: ['test_quantum_cluster_labels.npy', 'test_qubo_matrix.npy']\n"
     ]
    }
   ],
   "source": [
    "script_dir = os.getcwd()\n",
    "data_dir = os.path.abspath(os.path.join(script_dir, \"..\", \"..\", \"..\", \"data\", \"test_data\"))\n",
    "\n",
    "files = os.listdir(data_dir)\n",
    "print(\"Files in test_data:\", files)"
   ]
  },
  {
   "cell_type": "code",
   "execution_count": 13,
   "metadata": {},
   "outputs": [
    {
     "name": "stdout",
     "output_type": "stream",
     "text": [
      "Cluster Labels Shape: (3,)\n",
      "Cluster Labels Sample: [0 1 2]\n"
     ]
    }
   ],
   "source": [
    "clustered_output_path = os.path.join(data_dir, \"test_quantum_cluster_labels.npy\")\n",
    "\n",
    "if os.path.exists(clustered_output_path):\n",
    "    cluster_labels = np.load(clustered_output_path)\n",
    "    print(\"Cluster Labels Shape:\", cluster_labels.shape)\n",
    "    print(\"Cluster Labels Sample:\", cluster_labels[:10])\n",
    "else:\n",
    "    print(\"Cluster Labels file not found.\")"
   ]
  },
  {
   "cell_type": "code",
   "execution_count": 14,
   "metadata": {},
   "outputs": [
    {
     "name": "stdout",
     "output_type": "stream",
     "text": [
      "QUBO Matrix Shape: (10, 10)\n",
      "QUBO Matrix Sample:\n",
      " [[2.         0.67876099 0.92441938 0.91021874 0.68213929]\n",
      " [0.67876099 2.         0.61868866 0.91996955 0.77506265]\n",
      " [0.92441938 0.61868866 2.         0.82013025 0.46529034]\n",
      " [0.91021874 0.91996955 0.82013025 0.         0.80570999]\n",
      " [0.68213929 0.77506265 0.46529034 0.80570999 0.        ]]\n"
     ]
    }
   ],
   "source": [
    "qubo_matrix_path = os.path.join(data_dir, \"test_qubo_matrix.npy\")\n",
    "\n",
    "if os.path.exists(qubo_matrix_path):\n",
    "    qubo_matrix = np.load(qubo_matrix_path)\n",
    "    print(\"QUBO Matrix Shape:\", qubo_matrix.shape)\n",
    "    print(\"QUBO Matrix Sample:\\n\", qubo_matrix[:5, :5])\n",
    "else:\n",
    "    print(\"QUBO Matrix file not found.\")"
   ]
  },
  {
   "cell_type": "code",
   "execution_count": null,
   "metadata": {},
   "outputs": [],
   "source": []
  }
 ],
 "metadata": {
  "kernelspec": {
   "display_name": ".venv",
   "language": "python",
   "name": "python3"
  },
  "language_info": {
   "codemirror_mode": {
    "name": "ipython",
    "version": 3
   },
   "file_extension": ".py",
   "mimetype": "text/x-python",
   "name": "python",
   "nbconvert_exporter": "python",
   "pygments_lexer": "ipython3",
   "version": "3.10.7"
  }
 },
 "nbformat": 4,
 "nbformat_minor": 2
}
